{
 "cells": [
  {
   "cell_type": "code",
   "execution_count": 1,
   "id": "2a5bc2b1",
   "metadata": {},
   "outputs": [],
   "source": [
    "import numpy as np\n",
    "import pandas as pd\n",
    "from numpy import array\n",
    "from tensorflow.keras.preprocessing.text import one_hot\n",
    "from tensorflow.keras.preprocessing.sequence import pad_sequences\n",
    "from tensorflow.keras.models import Sequential\n",
    "from tensorflow.keras.layers import Flatten,Embedding,Dense,LSTM, Dropout"
   ]
  },
  {
   "cell_type": "code",
   "execution_count": 2,
   "id": "635e9996",
   "metadata": {},
   "outputs": [],
   "source": [
    "depression_corpus2 = pd.read_csv(\"cleaned_data_lemmatized.csv\")\n",
    "depression_corpus2.drop(\"Unnamed: 0\", axis = 1, inplace = True)\n",
    "depression_corpus2.dropna(subset = [\"lemmatized\"], inplace = True)\n",
    "df_sorted = depression_corpus2.sort_values(['id', 'date'], ascending = [True, True])"
   ]
  },
  {
   "cell_type": "code",
   "execution_count": 3,
   "id": "b2901373",
   "metadata": {},
   "outputs": [],
   "source": [
    "Vocab_size = 10000\n",
    "encoded_reviews = [one_hot(d,Vocab_size) for d in depression_corpus2 [\"text\"]]"
   ]
  },
  {
   "cell_type": "code",
   "execution_count": 4,
   "id": "6a722da3",
   "metadata": {},
   "outputs": [],
   "source": [
    "max_length = 23\n",
    "padded_reviews = pad_sequences(encoded_reviews,maxlen=max_length,padding='post')"
   ]
  },
  {
   "cell_type": "code",
   "execution_count": 5,
   "id": "62b9ba44",
   "metadata": {},
   "outputs": [
    {
     "name": "stdout",
     "output_type": "stream",
     "text": [
      "Model: \"sequential\"\n",
      "_________________________________________________________________\n",
      " Layer (type)                Output Shape              Param #   \n",
      "=================================================================\n",
      " embedding (Embedding)       (None, 23, 128)           1280000   \n",
      "                                                                 \n",
      " lstm (LSTM)                 (None, 23, 128)           131584    \n",
      "                                                                 \n",
      " dropout (Dropout)           (None, 23, 128)           0         \n",
      "                                                                 \n",
      " lstm_1 (LSTM)               (None, 23, 64)            49408     \n",
      "                                                                 \n",
      " dropout_1 (Dropout)         (None, 23, 64)            0         \n",
      "                                                                 \n",
      " dense (Dense)               (None, 23, 1)             65        \n",
      "                                                                 \n",
      "=================================================================\n",
      "Total params: 1,461,057\n",
      "Trainable params: 1,461,057\n",
      "Non-trainable params: 0\n",
      "_________________________________________________________________\n",
      "None\n"
     ]
    }
   ],
   "source": [
    "model = Sequential()\n",
    "embedding_layer = Embedding(input_dim=Vocab_size,output_dim=128,input_length=max_length)\n",
    "model.add(embedding_layer)\n",
    "model.add(LSTM(128, activation = 'relu', return_sequences = True))\n",
    "model.add(Dropout(0.2))\n",
    "model.add(LSTM(64, activation = 'relu', return_sequences = True))\n",
    "model.add(Dropout(0.2))\n",
    "model.add(Dense(1,activation='sigmoid'))\n",
    "model.compile(optimizer='adam',loss='binary_crossentropy',metrics=['acc'])\n",
    "print(model.summary())"
   ]
  },
  {
   "cell_type": "code",
   "execution_count": 7,
   "id": "2dd0fe0f",
   "metadata": {},
   "outputs": [
    {
     "name": "stdout",
     "output_type": "stream",
     "text": [
      "Epoch 1/5\n",
      "9220/9220 [==============================] - 371s 40ms/step - loss: 0.3019 - acc: 0.8959\n",
      "Epoch 2/5\n",
      "9220/9220 [==============================] - 422s 46ms/step - loss: 0.2920 - acc: 0.8971\n",
      "Epoch 3/5\n",
      "9220/9220 [==============================] - 429s 47ms/step - loss: 0.2824 - acc: 0.8991\n",
      "Epoch 4/5\n",
      "9220/9220 [==============================] - 357s 39ms/step - loss: 0.2718 - acc: 0.9025\n",
      "Epoch 5/5\n",
      "9220/9220 [==============================] - 345s 37ms/step - loss: 0.2598 - acc: 0.9066\n"
     ]
    },
    {
     "data": {
      "text/plain": [
       "<keras.callbacks.History at 0x27519dab5e0>"
      ]
     },
     "execution_count": 7,
     "metadata": {},
     "output_type": "execute_result"
    }
   ],
   "source": [
    "model.fit(padded_reviews,depression_corpus2['depressive'],epochs=5,verbose='auto')\n"
   ]
  },
  {
   "cell_type": "code",
   "execution_count": 6,
   "id": "62a19268",
   "metadata": {},
   "outputs": [],
   "source": [
    "import visualkeras"
   ]
  },
  {
   "cell_type": "code",
   "execution_count": 10,
   "id": "7bf4da11",
   "metadata": {},
   "outputs": [
    {
     "data": {
      "image/png": "[encoded data removed]",
      "text/plain": [
       "<PIL.Image.Image image mode=RGBA size=221x605>"
      ]
     },
     "execution_count": 10,
     "metadata": {},
     "output_type": "execute_result"
    }
   ],
   "source": [
    "visualkeras.layered_view(model, legend=True)"
   ]
  },
  {
   "cell_type": "code",
   "execution_count": null,
   "id": "d1b17cd8",
   "metadata": {},
   "outputs": [],
   "source": []
  }
 ],
 "metadata": {
  "kernelspec": {
   "display_name": "Python 3 (ipykernel)",
   "language": "python",
   "name": "python3"
  },
  "language_info": {
   "codemirror_mode": {
    "name": "ipython",
    "version": 3
   },
   "file_extension": ".py",
   "mimetype": "text/x-python",
   "name": "python",
   "nbconvert_exporter": "python",
   "pygments_lexer": "ipython3",
   "version": "3.9.13"
  }
 },
 "nbformat": 4,
 "nbformat_minor": 5
}
