{
 "cells": [
  {
   "cell_type": "code",
   "execution_count": 21,
   "id": "50419c34",
   "metadata": {},
   "outputs": [],
   "source": [
    "import pandas as pd\n",
    "from sklearn.feature_extraction.text import TfidfVectorizer\n",
    "from sklearn import model_selection, svm\n",
    "from sklearn.metrics import accuracy_score\n",
    "from sklearn.metrics import classification_report\n",
    "from sklearn.preprocessing import LabelEncoder\n",
    "from sklearn.feature_extraction.text import CountVectorizer\n",
    "from sklearn.linear_model import LogisticRegression"
   ]
  },
  {
   "cell_type": "code",
   "execution_count": 22,
   "id": "f7e2c370",
   "metadata": {},
   "outputs": [],
   "source": [
    "depression_corpus = pd.read_csv(\"cleaned_data_lemmatized.csv\")\n",
    "depression_corpus.drop(\"Unnamed: 0\", axis = 1, inplace = True)\n",
    "depression_corpus.dropna(subset = [\"lemmatized\"], inplace = True)\n",
    "df_group = pd.DataFrame(depression_corpus.groupby(['id','depressive'])['lemmatized'].apply(' '.join).reset_index())"
   ]
  },
  {
   "cell_type": "code",
   "execution_count": 11,
   "id": "0b4ef3e4",
   "metadata": {},
   "outputs": [],
   "source": [
    "Train_X, Test_X, Train_Y, Test_Y = model_selection.train_test_split(df_group['lemmatized'],df_group['depressive'],test_size=0.25)"
   ]
  },
  {
   "cell_type": "code",
   "execution_count": 12,
   "id": "5f49af23",
   "metadata": {},
   "outputs": [],
   "source": [
    "Encoder = LabelEncoder()\n",
    "Train_Y = Encoder.fit_transform(Train_Y)\n",
    "Test_Y = Encoder.fit_transform(Test_Y)"
   ]
  },
  {
   "cell_type": "code",
   "execution_count": 13,
   "id": "1adea6e6",
   "metadata": {},
   "outputs": [],
   "source": [
    "Tfidf_vect = TfidfVectorizer(max_features=500)\n",
    "Tfidf_vect.fit(df_group['lemmatized'])\n",
    "Train_X = Tfidf_vect.transform(Train_X)\n",
    "Test_X = Tfidf_vect.transform(Test_X)"
   ]
  },
  {
   "cell_type": "code",
   "execution_count": 7,
   "id": "e224e962",
   "metadata": {},
   "outputs": [
    {
     "name": "stdout",
     "output_type": "stream",
     "text": [
      "SVM Accuracy Score ->  83.60655737704919\n",
      "              precision    recall  f1-score   support\n",
      "\n",
      "           0       0.84      0.98      0.90        97\n",
      "           1       0.78      0.28      0.41        25\n",
      "\n",
      "    accuracy                           0.84       122\n",
      "   macro avg       0.81      0.63      0.66       122\n",
      "weighted avg       0.83      0.84      0.80       122\n",
      "\n"
     ]
    }
   ],
   "source": [
    "SVM = svm.SVC(C=1.0, kernel='rbf', degree=3, gamma='scale')\n",
    "SVM.fit(Train_X,Train_Y)\n",
    "predictions_SVM = SVM.predict(Test_X)\n",
    "print(\"SVM Accuracy Score -> \",accuracy_score(predictions_SVM, Test_Y)*100)\n",
    "print(classification_report(Test_Y,predictions_SVM))"
   ]
  },
  {
   "cell_type": "code",
   "execution_count": 20,
   "id": "33628b6e",
   "metadata": {},
   "outputs": [
    {
     "name": "stdout",
     "output_type": "stream",
     "text": [
      "Logistic Regression Accuracy Score ->  87.70491803278688\n",
      "              precision    recall  f1-score   support\n",
      "\n",
      "           0       0.89      0.98      0.93       108\n",
      "           1       0.33      0.07      0.12        14\n",
      "\n",
      "    accuracy                           0.88       122\n",
      "   macro avg       0.61      0.53      0.53       122\n",
      "weighted avg       0.83      0.88      0.84       122\n",
      "\n"
     ]
    }
   ],
   "source": [
    "logReg = LogisticRegression(solver = 'lbfgs')\n",
    "logReg.fit(Train_X,Train_Y)\n",
    "predictions_logReg = logReg.predict(Test_X)\n",
    "print(\"Logistic Regression Accuracy Score -> \",accuracy_score(predictions_logReg, Test_Y)*100)\n",
    "print(classification_report(Test_Y,predictions_logReg))"
   ]
  },
  {
   "cell_type": "code",
   "execution_count": 23,
   "id": "d41f186c",
   "metadata": {},
   "outputs": [],
   "source": [
    "Train_X, Test_X, Train_Y, Test_Y = model_selection.train_test_split(depression_corpus['lemmatized'],depression_corpus['depressive'],test_size=0.25)"
   ]
  },
  {
   "cell_type": "code",
   "execution_count": 24,
   "id": "c65f3325",
   "metadata": {},
   "outputs": [],
   "source": [
    "Encoder = LabelEncoder()\n",
    "Train_Y = Encoder.fit_transform(Train_Y)\n",
    "Test_Y = Encoder.fit_transform(Test_Y)"
   ]
  },
  {
   "cell_type": "code",
   "execution_count": 25,
   "id": "ea885033",
   "metadata": {},
   "outputs": [],
   "source": [
    "Tfidf_vect = TfidfVectorizer(max_features=500)\n",
    "Tfidf_vect.fit(df_group['lemmatized'])\n",
    "Train_X = Tfidf_vect.transform(Train_X)\n",
    "Test_X = Tfidf_vect.transform(Test_X)"
   ]
  },
  {
   "cell_type": "code",
   "execution_count": 26,
   "id": "b53d6ae7",
   "metadata": {},
   "outputs": [
    {
     "name": "stdout",
     "output_type": "stream",
     "text": [
      "SVM Accuracy Score ->  89.6142634397668\n",
      "              precision    recall  f1-score   support\n",
      "\n",
      "           0       0.90      1.00      0.95     65991\n",
      "           1       0.75      0.02      0.04      7764\n",
      "\n",
      "    accuracy                           0.90     73755\n",
      "   macro avg       0.82      0.51      0.49     73755\n",
      "weighted avg       0.88      0.90      0.85     73755\n",
      "\n"
     ]
    }
   ],
   "source": [
    "SVM = svm.SVC(C=1.0, kernel='rbf', degree=3, gamma='scale')\n",
    "SVM.fit(Train_X,Train_Y)\n",
    "predictions_SVM = SVM.predict(Test_X)\n",
    "print(\"SVM Accuracy Score -> \",accuracy_score(predictions_SVM, Test_Y)*100)\n",
    "print(classification_report(Test_Y,predictions_SVM))"
   ]
  },
  {
   "cell_type": "code",
   "execution_count": 27,
   "id": "37f5f4ff",
   "metadata": {},
   "outputs": [
    {
     "name": "stdout",
     "output_type": "stream",
     "text": [
      "Logistic Regression Accuracy Score ->  89.56409734933224\n",
      "              precision    recall  f1-score   support\n",
      "\n",
      "           0       0.90      1.00      0.94     65991\n",
      "           1       0.59      0.03      0.05      7764\n",
      "\n",
      "    accuracy                           0.90     73755\n",
      "   macro avg       0.74      0.51      0.50     73755\n",
      "weighted avg       0.86      0.90      0.85     73755\n",
      "\n"
     ]
    },
    {
     "name": "stderr",
     "output_type": "stream",
     "text": [
      "C:\\Users\\USER\\anaconda3\\lib\\site-packages\\sklearn\\linear_model\\_logistic.py:763: ConvergenceWarning: lbfgs failed to converge (status=1):\n",
      "STOP: TOTAL NO. of ITERATIONS REACHED LIMIT.\n",
      "\n",
      "Increase the number of iterations (max_iter) or scale the data as shown in:\n",
      "    https://scikit-learn.org/stable/modules/preprocessing.html\n",
      "Please also refer to the documentation for alternative solver options:\n",
      "    https://scikit-learn.org/stable/modules/linear_model.html#logistic-regression\n",
      "  n_iter_i = _check_optimize_result(\n"
     ]
    }
   ],
   "source": [
    "logReg = LogisticRegression(solver = 'lbfgs')\n",
    "logReg.fit(Train_X,Train_Y)\n",
    "predictions_logReg = logReg.predict(Test_X)\n",
    "print(\"Logistic Regression Accuracy Score -> \",accuracy_score(predictions_logReg, Test_Y)*100)\n",
    "print(classification_report(Test_Y,predictions_logReg))"
   ]
  },
  {
   "cell_type": "code",
   "execution_count": null,
   "id": "759cc53b",
   "metadata": {},
   "outputs": [],
   "source": []
  }
 ],
 "metadata": {
  "kernelspec": {
   "display_name": "Python 3",
   "language": "python",
   "name": "python3"
  },
  "language_info": {
   "codemirror_mode": {
    "name": "ipython",
    "version": 3
   },
   "file_extension": ".py",
   "mimetype": "text/x-python",
   "name": "python",
   "nbconvert_exporter": "python",
   "pygments_lexer": "ipython3",
   "version": "3.8.8"
  }
 },
 "nbformat": 4,
 "nbformat_minor": 5
}
