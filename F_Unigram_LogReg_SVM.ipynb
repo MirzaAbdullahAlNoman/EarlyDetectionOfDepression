{
 "cells": [
  {
   "cell_type": "code",
   "execution_count": 2,
   "id": "9e2ea3f6",
   "metadata": {},
   "outputs": [],
   "source": [
    "import pandas as pd\n",
    "from sklearn import model_selection, svm\n",
    "from sklearn.metrics import accuracy_score\n",
    "from sklearn.metrics import classification_report\n",
    "from sklearn.preprocessing import LabelEncoder\n",
    "from sklearn.feature_extraction.text import CountVectorizer\n",
    "from sklearn.linear_model import LogisticRegression"
   ]
  },
  {
   "cell_type": "code",
   "execution_count": 3,
   "id": "0bee1edf",
   "metadata": {},
   "outputs": [],
   "source": [
    "depression_corpus = pd.read_csv(\"cleaned_data_lemmatized.csv\")\n",
    "depression_corpus.drop(\"Unnamed: 0\", axis = 1, inplace = True)\n",
    "depression_corpus.dropna(subset = [\"lemmatized\"], inplace = True)\n",
    "df_group = pd.DataFrame(depression_corpus.groupby(['id','depressive'])['lemmatized'].apply(' '.join).reset_index())"
   ]
  },
  {
   "cell_type": "code",
   "execution_count": 12,
   "id": "5b8de2a6",
   "metadata": {},
   "outputs": [],
   "source": [
    "Train_X, Test_X, Train_Y, Test_Y = model_selection.train_test_split(df_group['lemmatized'],df_group['depressive'],test_size=0.25)"
   ]
  },
  {
   "cell_type": "code",
   "execution_count": 13,
   "id": "8d8fcec5",
   "metadata": {},
   "outputs": [],
   "source": [
    "Encoder = LabelEncoder()\n",
    "Train_Y = Encoder.fit_transform(Train_Y)\n",
    "Test_Y = Encoder.fit_transform(Test_Y)"
   ]
  },
  {
   "cell_type": "code",
   "execution_count": 14,
   "id": "2809ba70",
   "metadata": {},
   "outputs": [],
   "source": [
    "vectorizer = CountVectorizer(ngram_range=(1, 1))\n",
    "Train_X = vectorizer.fit_transform(Train_X)\n",
    "Test_X = vectorizer.transform(Test_X)"
   ]
  },
  {
   "cell_type": "code",
   "execution_count": 17,
   "id": "6e3fe44d",
   "metadata": {},
   "outputs": [
    {
     "name": "stdout",
     "output_type": "stream",
     "text": [
      "SVM Accuracy Score ->  83.60655737704919\n",
      "              precision    recall  f1-score   support\n",
      "\n",
      "           0       0.84      0.99      0.91        99\n",
      "           1       0.80      0.17      0.29        23\n",
      "\n",
      "    accuracy                           0.84       122\n",
      "   macro avg       0.82      0.58      0.60       122\n",
      "weighted avg       0.83      0.84      0.79       122\n",
      "\n"
     ]
    }
   ],
   "source": [
    "SVM = svm.SVC(C=1.0, kernel='poly', degree=3, gamma='scale')\n",
    "SVM.fit(Train_X,Train_Y)\n",
    "predictions_SVM = SVM.predict(Test_X)\n",
    "print(\"SVM Accuracy Score -> \",accuracy_score(predictions_SVM, Test_Y)*100)\n",
    "print(classification_report(Test_Y,predictions_SVM))"
   ]
  },
  {
   "cell_type": "code",
   "execution_count": 16,
   "id": "723be3d4",
   "metadata": {},
   "outputs": [
    {
     "name": "stdout",
     "output_type": "stream",
     "text": [
      "Logistic Regression Accuracy Score ->  86.88524590163934\n",
      "              precision    recall  f1-score   support\n",
      "\n",
      "           0       0.90      0.94      0.92        99\n",
      "           1       0.68      0.57      0.62        23\n",
      "\n",
      "    accuracy                           0.87       122\n",
      "   macro avg       0.79      0.75      0.77       122\n",
      "weighted avg       0.86      0.87      0.86       122\n",
      "\n"
     ]
    }
   ],
   "source": [
    "logReg = LogisticRegression(solver = 'newton-cg')\n",
    "logReg.fit(Train_X,Train_Y)\n",
    "predictions_logReg = logReg.predict(Test_X)\n",
    "print(\"Logistic Regression Accuracy Score -> \",accuracy_score(predictions_logReg, Test_Y)*100)\n",
    "print(classification_report(Test_Y,predictions_logReg))"
   ]
  },
  {
   "cell_type": "code",
   "execution_count": 4,
   "id": "373116e2",
   "metadata": {},
   "outputs": [],
   "source": [
    "Train_X, Test_X, Train_Y, Test_Y = model_selection.train_test_split(depression_corpus['lemmatized'],depression_corpus['depressive'],test_size=0.25)"
   ]
  },
  {
   "cell_type": "code",
   "execution_count": 5,
   "id": "1628b473",
   "metadata": {},
   "outputs": [],
   "source": [
    "Encoder = LabelEncoder()\n",
    "Train_Y = Encoder.fit_transform(Train_Y)\n",
    "Test_Y = Encoder.fit_transform(Test_Y)"
   ]
  },
  {
   "cell_type": "code",
   "execution_count": 6,
   "id": "d29d161a",
   "metadata": {},
   "outputs": [],
   "source": [
    "vectorizer = CountVectorizer(ngram_range=(1, 1))\n",
    "Train_X = vectorizer.fit_transform(Train_X)\n",
    "Test_X = vectorizer.transform(Test_X)"
   ]
  },
  {
   "cell_type": "code",
   "execution_count": 7,
   "id": "7dd20f03",
   "metadata": {},
   "outputs": [
    {
     "name": "stdout",
     "output_type": "stream",
     "text": [
      "SVM Accuracy Score ->  89.44207172395092\n",
      "              precision    recall  f1-score   support\n",
      "\n",
      "           0       0.90      0.99      0.94     66057\n",
      "           1       0.44      0.04      0.08      7698\n",
      "\n",
      "    accuracy                           0.89     73755\n",
      "   macro avg       0.67      0.52      0.51     73755\n",
      "weighted avg       0.85      0.89      0.85     73755\n",
      "\n"
     ]
    }
   ],
   "source": [
    "SVM = svm.SVC(C=1.0, kernel='poly', degree=3, gamma='scale')\n",
    "SVM.fit(Train_X,Train_Y)\n",
    "predictions_SVM = SVM.predict(Test_X)\n",
    "print(\"SVM Accuracy Score -> \",accuracy_score(predictions_SVM, Test_Y)*100)\n",
    "print(classification_report(Test_Y,predictions_SVM))"
   ]
  },
  {
   "cell_type": "code",
   "execution_count": 8,
   "id": "3bd128cb",
   "metadata": {},
   "outputs": [
    {
     "name": "stdout",
     "output_type": "stream",
     "text": [
      "Logistic Regression Accuracy Score ->  90.12541522608637\n",
      "              precision    recall  f1-score   support\n",
      "\n",
      "           0       0.91      0.99      0.95     66057\n",
      "           1       0.60      0.16      0.25      7698\n",
      "\n",
      "    accuracy                           0.90     73755\n",
      "   macro avg       0.76      0.57      0.60     73755\n",
      "weighted avg       0.88      0.90      0.87     73755\n",
      "\n"
     ]
    }
   ],
   "source": [
    "logReg = LogisticRegression(solver = 'newton-cg')\n",
    "logReg.fit(Train_X,Train_Y)\n",
    "predictions_logReg = logReg.predict(Test_X)\n",
    "print(\"Logistic Regression Accuracy Score -> \",accuracy_score(predictions_logReg, Test_Y)*100)\n",
    "print(classification_report(Test_Y,predictions_logReg))"
   ]
  },
  {
   "cell_type": "code",
   "execution_count": null,
   "id": "1bdc1751",
   "metadata": {},
   "outputs": [],
   "source": []
  }
 ],
 "metadata": {
  "kernelspec": {
   "display_name": "Python 3",
   "language": "python",
   "name": "python3"
  },
  "language_info": {
   "codemirror_mode": {
    "name": "ipython",
    "version": 3
   },
   "file_extension": ".py",
   "mimetype": "text/x-python",
   "name": "python",
   "nbconvert_exporter": "python",
   "pygments_lexer": "ipython3",
   "version": "3.8.8"
  }
 },
 "nbformat": 4,
 "nbformat_minor": 5
}
