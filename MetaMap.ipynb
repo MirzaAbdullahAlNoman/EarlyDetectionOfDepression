{
 "cells": [
  {
   "cell_type": "code",
   "execution_count": 25,
   "id": "dfffd6d3",
   "metadata": {},
   "outputs": [],
   "source": [
    "from pymetamap import MetaMap\n",
    "import pandas as pd\n",
    "from tqdm.auto import tqdm"
   ]
  },
  {
   "cell_type": "code",
   "execution_count": 3,
   "id": "89fcbddb",
   "metadata": {},
   "outputs": [],
   "source": [
    "mm = MetaMap.get_instance(\"/home/mirza_abdullah_al_noman/Downloads/public_mm/bin/metamap20\")"
   ]
  },
  {
   "cell_type": "code",
   "execution_count": 4,
   "id": "fcadc024",
   "metadata": {},
   "outputs": [],
   "source": [
    "result,error = mm.extract_concepts(sentences=[\"I have been very depressed\",\"Its ok for me now\"], restrict_to_sources=['SNOMEDCT_US'], restrict_to_sts=['clnd', 'mobd'])"
   ]
  },
  {
   "cell_type": "code",
   "execution_count": 24,
   "id": "659914b5",
   "metadata": {},
   "outputs": [
    {
     "name": "stdout",
     "output_type": "stream",
     "text": [
      "C0344315\n"
     ]
    }
   ],
   "source": [
    "for concept in result:\n",
    "    print(concept.cui)"
   ]
  },
  {
   "cell_type": "code",
   "execution_count": 31,
   "id": "0ff41d8f",
   "metadata": {},
   "outputs": [],
   "source": [
    "training_corpus = pd.read_csv(\"training_data.csv\")"
   ]
  },
  {
   "cell_type": "code",
   "execution_count": 33,
   "id": "8459fe11",
   "metadata": {},
   "outputs": [
    {
     "data": {
      "text/plain": [
       "id                 0\n",
       "title         198718\n",
       "date               0\n",
       "text           85735\n",
       "depressive         0\n",
       "dtype: int64"
      ]
     },
     "execution_count": 33,
     "metadata": {},
     "output_type": "execute_result"
    }
   ],
   "source": [
    "training_corpus.isnull().sum()"
   ]
  },
  {
   "cell_type": "code",
   "execution_count": 22,
   "id": "746ea19a",
   "metadata": {},
   "outputs": [],
   "source": [
    "cui_list = []"
   ]
  },
  {
   "cell_type": "code",
   "execution_count": 30,
   "id": "5cb71cc9",
   "metadata": {},
   "outputs": [
    {
     "data": {
      "application/vnd.jupyter.widget-view+json": {
       "model_id": "a34c411f411b4f60b16853c38fcb90f9",
       "version_major": 2,
       "version_minor": 0
      },
      "text/plain": [
       "  0%|          | 0/295021 [00:00<?, ?it/s]"
      ]
     },
     "metadata": {},
     "output_type": "display_data"
    },
    {
     "name": "stdout",
     "output_type": "stream",
     "text": [
      "[' I have decided just to get him a trim on his legs and tail and groomed up nothing too extensive [before](http://i', 'imgur', 'com/jX1QUmJ', 'jpg) after soon to come', ' ']\n",
      "['  ']\n",
      "[' Should I get my handsome boys hair cut?\\nDoes it ruin the coat?\\n[Here is an album of Dexter] (http://imgur', 'com/a/kKp0R) \\nif he does get a hair cut what type should it be? ']\n",
      "[' John Wilkes Woof  ']\n",
      "[\" I'd watch him on that balcony\", '', '', \" Didn't go so well for  Abe  \"]\n",
      "[' More like ambush bursts Lucian  ']\n",
      "[' Stereotypes are stereotypical  ']\n",
      "[' Kind of sad that animals have that whole diversity thing figured out before we do', ' ']\n",
      "[\" No one knows what it's like to be the batman\", '', '', ' To have no fam', ' ']\n",
      "[\" But that's a puppy\", ' ']\n",
      "[' Blues a girl', '', '', ' ']\n",
      "[' Blues a girl', '', '', ' ']\n",
      "[' Thanks, it means more than you know  ']\n",
      "[' He is currently at a foster home for 6 months with people I know', \" Complication with housing him but I'm working stuff out he has helped me with my severe depression and anxiety I honestly would not be here today\", \" I miss him so much and it's been so hard with out my second half\", ' ']\n",
      "['  ']\n",
      "[' My golden scratches up his pads on gravel a lot but I got him some stuff called paw butter ']\n",
      "[' Just a tip:  maybe work on proportions his necks a bit too long, but good work none the less  ']\n",
      "[' They are helpful to a degree and I go to public school', ' But nothing will teach me to go to school like taking my license away the only means of transport I have to school  ']\n"
     ]
    },
    {
     "ename": "KeyboardInterrupt",
     "evalue": "",
     "output_type": "error",
     "traceback": [
      "\u001b[0;31m---------------------------------------------------------------------------\u001b[0m",
      "\u001b[0;31mKeyboardInterrupt\u001b[0m                         Traceback (most recent call last)",
      "Cell \u001b[0;32mIn[30], line 4\u001b[0m\n\u001b[1;32m      2\u001b[0m sent \u001b[38;5;241m=\u001b[39m i\u001b[38;5;241m.\u001b[39msplit(\u001b[38;5;124m\"\u001b[39m\u001b[38;5;124m.\u001b[39m\u001b[38;5;124m\"\u001b[39m)\n\u001b[1;32m      3\u001b[0m \u001b[38;5;28mprint\u001b[39m(sent)\n\u001b[0;32m----> 4\u001b[0m result,error \u001b[38;5;241m=\u001b[39m \u001b[43mmm\u001b[49m\u001b[38;5;241;43m.\u001b[39;49m\u001b[43mextract_concepts\u001b[49m\u001b[43m(\u001b[49m\u001b[43msent\u001b[49m\u001b[43m,\u001b[49m\u001b[43m \u001b[49m\u001b[43mrestrict_to_sources\u001b[49m\u001b[38;5;241;43m=\u001b[39;49m\u001b[43m[\u001b[49m\u001b[38;5;124;43m'\u001b[39;49m\u001b[38;5;124;43mSNOMEDCT_US\u001b[39;49m\u001b[38;5;124;43m'\u001b[39;49m\u001b[43m]\u001b[49m\u001b[43m,\u001b[49m\u001b[43m \u001b[49m\u001b[43mrestrict_to_sts\u001b[49m\u001b[38;5;241;43m=\u001b[39;49m\u001b[43m[\u001b[49m\u001b[38;5;124;43m'\u001b[39;49m\u001b[38;5;124;43mclnd\u001b[39;49m\u001b[38;5;124;43m'\u001b[39;49m\u001b[43m,\u001b[49m\u001b[43m \u001b[49m\u001b[38;5;124;43m'\u001b[39;49m\u001b[38;5;124;43mmobd\u001b[39;49m\u001b[38;5;124;43m'\u001b[39;49m\u001b[43m]\u001b[49m\u001b[43m)\u001b[49m\n\u001b[1;32m      5\u001b[0m \u001b[38;5;28;01mfor\u001b[39;00m j \u001b[38;5;129;01min\u001b[39;00m result:\n\u001b[1;32m      6\u001b[0m     cui_list\u001b[38;5;241m.\u001b[39mappend(j\u001b[38;5;241m.\u001b[39mcui)\n",
      "File \u001b[0;32m~/.local/lib/python3.10/site-packages/pymetamap/SubprocessBackend.py:193\u001b[0m, in \u001b[0;36mSubprocessBackend.extract_concepts\u001b[0;34m(self, sentences, ids, composite_phrase, filename, file_format, allow_acronym_variants, word_sense_disambiguation, allow_large_n, strict_model, relaxed_model, allow_overmatches, allow_concept_gaps, term_processing, no_derivational_variants, derivational_variants, ignore_word_order, unique_acronym_variants, prefer_multiple_concepts, ignore_stop_phrases, compute_all_mappings, prune, mm_data_version, exclude_sources, restrict_to_sources, restrict_to_sts, exclude_sts, no_nums)\u001b[0m\n\u001b[1;32m    190\u001b[0m input_process \u001b[38;5;241m=\u001b[39m subprocess\u001b[38;5;241m.\u001b[39mPopen(input_command, stdout\u001b[38;5;241m=\u001b[39msubprocess\u001b[38;5;241m.\u001b[39mPIPE)\n\u001b[1;32m    191\u001b[0m metamap_process \u001b[38;5;241m=\u001b[39m subprocess\u001b[38;5;241m.\u001b[39mPopen(command, stdout\u001b[38;5;241m=\u001b[39msubprocess\u001b[38;5;241m.\u001b[39mPIPE, stdin\u001b[38;5;241m=\u001b[39minput_process\u001b[38;5;241m.\u001b[39mstdout)\n\u001b[0;32m--> 193\u001b[0m output, error \u001b[38;5;241m=\u001b[39m \u001b[43mmetamap_process\u001b[49m\u001b[38;5;241;43m.\u001b[39;49m\u001b[43mcommunicate\u001b[49m\u001b[43m(\u001b[49m\u001b[43m)\u001b[49m\n\u001b[1;32m    194\u001b[0m \u001b[38;5;28;01mif\u001b[39;00m sys\u001b[38;5;241m.\u001b[39mversion_info[\u001b[38;5;241m0\u001b[39m] \u001b[38;5;241m>\u001b[39m \u001b[38;5;241m2\u001b[39m:\n\u001b[1;32m    195\u001b[0m     \u001b[38;5;28;01mif\u001b[39;00m \u001b[38;5;28misinstance\u001b[39m(output, \u001b[38;5;28mbytes\u001b[39m):\n",
      "File \u001b[0;32m/usr/lib/python3.10/subprocess.py:1139\u001b[0m, in \u001b[0;36mPopen.communicate\u001b[0;34m(self, input, timeout)\u001b[0m\n\u001b[1;32m   1137\u001b[0m     \u001b[38;5;28mself\u001b[39m\u001b[38;5;241m.\u001b[39m_stdin_write(\u001b[38;5;28minput\u001b[39m)\n\u001b[1;32m   1138\u001b[0m \u001b[38;5;28;01melif\u001b[39;00m \u001b[38;5;28mself\u001b[39m\u001b[38;5;241m.\u001b[39mstdout:\n\u001b[0;32m-> 1139\u001b[0m     stdout \u001b[38;5;241m=\u001b[39m \u001b[38;5;28;43mself\u001b[39;49m\u001b[38;5;241;43m.\u001b[39;49m\u001b[43mstdout\u001b[49m\u001b[38;5;241;43m.\u001b[39;49m\u001b[43mread\u001b[49m\u001b[43m(\u001b[49m\u001b[43m)\u001b[49m\n\u001b[1;32m   1140\u001b[0m     \u001b[38;5;28mself\u001b[39m\u001b[38;5;241m.\u001b[39mstdout\u001b[38;5;241m.\u001b[39mclose()\n\u001b[1;32m   1141\u001b[0m \u001b[38;5;28;01melif\u001b[39;00m \u001b[38;5;28mself\u001b[39m\u001b[38;5;241m.\u001b[39mstderr:\n",
      "\u001b[0;31mKeyboardInterrupt\u001b[0m: "
     ]
    }
   ],
   "source": [
    "for i in tqdm(training_corpus['text']):\n",
    "    sent = i.split(\".\")\n",
    "    print(sent)\n",
    "    result,error = mm.extract_concepts(sent, restrict_to_sources=['SNOMEDCT_US'], restrict_to_sts=['clnd', 'mobd'])\n",
    "    for j in result:\n",
    "        cui_list.append(j.cui)"
   ]
  },
  {
   "cell_type": "code",
   "execution_count": null,
   "id": "98212216",
   "metadata": {},
   "outputs": [],
   "source": []
  }
 ],
 "metadata": {
  "kernelspec": {
   "display_name": "Python 3 (ipykernel)",
   "language": "python",
   "name": "python3"
  },
  "language_info": {
   "codemirror_mode": {
    "name": "ipython",
    "version": 3
   },
   "file_extension": ".py",
   "mimetype": "text/x-python",
   "name": "python",
   "nbconvert_exporter": "python",
   "pygments_lexer": "ipython3",
   "version": "3.10.6"
  }
 },
 "nbformat": 4,
 "nbformat_minor": 5
}
