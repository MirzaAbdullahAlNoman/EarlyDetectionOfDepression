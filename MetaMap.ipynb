{
 "cells": [
  {
   "cell_type": "code",
   "execution_count": 33,
   "id": "dfffd6d3",
   "metadata": {},
   "outputs": [],
   "source": [
    "from pymetamap import MetaMap"
   ]
  },
  {
   "cell_type": "code",
   "execution_count": 34,
   "id": "89fcbddb",
   "metadata": {},
   "outputs": [],
   "source": [
    "mm = MetaMap.get_instance(\"/home/mirza_abdullah_al_noman/Downloads/public_mm/bin/metamap20\")"
   ]
  },
  {
   "cell_type": "code",
   "execution_count": 36,
   "id": "fcadc024",
   "metadata": {},
   "outputs": [
    {
     "ename": "TypeError",
     "evalue": "SubprocessBackend.extract_concepts() got an unexpected keyword argument 'restrict_to_sources'",
     "output_type": "error",
     "traceback": [
      "\u001b[0;31m---------------------------------------------------------------------------\u001b[0m",
      "\u001b[0;31mTypeError\u001b[0m                                 Traceback (most recent call last)",
      "Cell \u001b[0;32mIn[36], line 1\u001b[0m\n\u001b[0;32m----> 1\u001b[0m result,error \u001b[38;5;241m=\u001b[39m \u001b[43mmm\u001b[49m\u001b[38;5;241;43m.\u001b[39;49m\u001b[43mextract_concepts\u001b[49m\u001b[43m(\u001b[49m\u001b[43msentences\u001b[49m\u001b[38;5;241;43m=\u001b[39;49m\u001b[43m[\u001b[49m\u001b[38;5;124;43m\"\u001b[39;49m\u001b[38;5;124;43mI have been very depressed\u001b[39;49m\u001b[38;5;124;43m\"\u001b[39;49m\u001b[43m,\u001b[49m\u001b[38;5;124;43m\"\u001b[39;49m\u001b[38;5;124;43mIts ok for me now\u001b[39;49m\u001b[38;5;124;43m\"\u001b[39;49m\u001b[43m]\u001b[49m\u001b[43m,\u001b[49m\u001b[43m \u001b[49m\u001b[43mrestrict_to_sources\u001b[49m\u001b[38;5;241;43m=\u001b[39;49m\u001b[38;5;124;43m'\u001b[39;49m\u001b[38;5;124;43mSNOMEDCT_US\u001b[39;49m\u001b[38;5;124;43m'\u001b[39;49m\u001b[43m)\u001b[49m\n",
      "\u001b[0;31mTypeError\u001b[0m: SubprocessBackend.extract_concepts() got an unexpected keyword argument 'restrict_to_sources'"
     ]
    }
   ],
   "source": [
    "result,error = mm.extract_concepts(sentences=[\"I have been very depressed\",\"Its ok for me now\"], restrict_to_sources='SNOMEDCT_US')"
   ]
  },
  {
   "cell_type": "code",
   "execution_count": 28,
   "id": "659914b5",
   "metadata": {},
   "outputs": [
    {
     "name": "stdout",
     "output_type": "stream",
     "text": [
      "ConceptMMI(index='tmp_17nw6ox', mm='MMI', score='5.18', preferred_name='Blood group antibody I', cui='C0221138', semtypes='[aapp,imft]', trigger='[\"I NOS\"-tx-1-\"I\"-noun-0]', location='TX', pos_info='1/1', tree_codes='')\n",
      "ConceptMMI(index='tmp_17nw6ox', mm='MMI', score='5.18', preferred_name='Depressed Level of Consciousness', cui='C0549249', semtypes='[fndg]', trigger='[\"DEPRESSED\"-tx-1-\"depressed\"-verb-0]', location='TX', pos_info='18/9', tree_codes='')\n",
      "ConceptMMI(index='tmp_17nw6ox', mm='MMI', score='5.18', preferred_name='Depressed mood', cui='C0344315', semtypes='[mobd]', trigger='[\"Depressed\"-tx-1-\"depressed\"-verb-0]', location='TX', pos_info='18/9', tree_codes='')\n",
      "ConceptMMI(index='tmp_17nw6ox', mm='MMI', score='5.18', preferred_name='Iodides', cui='C0021966', semtypes='[inch]', trigger='[\"I-\"-tx-1-\"I\"-noun-0]', location='TX', pos_info='1/1', tree_codes='')\n",
      "ConceptMMI(index='tmp_17nw6ox', mm='MMI', score='5.18', preferred_name='Very', cui='C0442824', semtypes='[qlco]', trigger='[\"Very\"-tx-1-\"very\"-adv-0]', location='TX', pos_info='13/4', tree_codes='')\n",
      "ConceptMMI(index='tmp_17nw6ox', mm='MMI', score='5.18', preferred_name='Very Much', cui='C2984081', semtypes='[qlco]', trigger='[\"Very\"-tx-1-\"very\"-adv-0]', location='TX', pos_info='13/4', tree_codes='')\n",
      "ConceptMMI(index='tmp_17nw6ox', mm='MMI', score='3.43', preferred_name='Examiner, Medical', cui='C0025082', semtypes='[prog]', trigger='[\"ME\"-tx-1-\"me\"-pron-0]', location='TX', pos_info='12/2', tree_codes='')\n",
      "ConceptMMI(index='tmp_17nw6ox', mm='MMI', score='3.43', preferred_name='McKeown esophagectomy', cui='C0472888', semtypes='[topp]', trigger='[\"ME\"-tx-1-\"me\"-pron-0]', location='TX', pos_info='12/2', tree_codes='')\n",
      "ConceptMMI(index='tmp_17nw6ox', mm='MMI', score='3.43', preferred_name='National Drug Code Milligram', cui='C4722265', semtypes='[qnco]', trigger='[\"ME\"-tx-1-\"me\"-pron-0]', location='TX', pos_info='12/2', tree_codes='')\n",
      "ConceptMMI(index='tmp_17nw6ox', mm='MMI', score='3.43', preferred_name='Now (cigarettes)', cui='C4760243', semtypes='[mnob]', trigger='[\"Now\"-tx-1-\"now\"-adv-0]', location='TX', pos_info='15/3', tree_codes='')\n",
      "ConceptMMI(index='tmp_17nw6ox', mm='MMI', score='3.43', preferred_name='Now (temporal qualifier)', cui='C1948052', semtypes='[tmco]', trigger='[\"Now\"-tx-1-\"now\"-adv-0]', location='TX', pos_info='15/3', tree_codes='')\n"
     ]
    }
   ],
   "source": [
    "for concept in result:\n",
    "    print(concept)"
   ]
  },
  {
   "cell_type": "code",
   "execution_count": null,
   "id": "0ff41d8f",
   "metadata": {},
   "outputs": [],
   "source": []
  }
 ],
 "metadata": {
  "kernelspec": {
   "display_name": "Python 3 (ipykernel)",
   "language": "python",
   "name": "python3"
  },
  "language_info": {
   "codemirror_mode": {
    "name": "ipython",
    "version": 3
   },
   "file_extension": ".py",
   "mimetype": "text/x-python",
   "name": "python",
   "nbconvert_exporter": "python",
   "pygments_lexer": "ipython3",
   "version": "3.10.6"
  }
 },
 "nbformat": 4,
 "nbformat_minor": 5
}
