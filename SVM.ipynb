{
 "cells": [
  {
   "cell_type": "code",
   "execution_count": 1,
   "id": "85fedcd9",
   "metadata": {},
   "outputs": [],
   "source": [
    "import pandas as pd\n",
    "from sklearn.feature_extraction.text import TfidfVectorizer\n",
    "from sklearn import model_selection, naive_bayes, svm\n",
    "from sklearn.metrics import accuracy_score\n",
    "from sklearn.metrics import classification_report\n",
    "from sklearn.preprocessing import LabelEncoder"
   ]
  },
  {
   "cell_type": "code",
   "execution_count": 2,
   "id": "853ac699",
   "metadata": {},
   "outputs": [],
   "source": [
    "depression_corpus = pd.read_csv(\"cleaned_data_lemmatized.csv\")"
   ]
  },
  {
   "cell_type": "code",
   "execution_count": 3,
   "id": "75b88074",
   "metadata": {},
   "outputs": [
    {
     "data": {
      "text/html": [
       "<div>\n",
       "<style scoped>\n",
       "    .dataframe tbody tr th:only-of-type {\n",
       "        vertical-align: middle;\n",
       "    }\n",
       "\n",
       "    .dataframe tbody tr th {\n",
       "        vertical-align: top;\n",
       "    }\n",
       "\n",
       "    .dataframe thead th {\n",
       "        text-align: right;\n",
       "    }\n",
       "</style>\n",
       "<table border=\"1\" class=\"dataframe\">\n",
       "  <thead>\n",
       "    <tr style=\"text-align: right;\">\n",
       "      <th></th>\n",
       "      <th>id</th>\n",
       "      <th>title</th>\n",
       "      <th>date</th>\n",
       "      <th>text</th>\n",
       "      <th>depressive</th>\n",
       "      <th>lemmatized</th>\n",
       "      <th>totalwords</th>\n",
       "    </tr>\n",
       "  </thead>\n",
       "  <tbody>\n",
       "    <tr>\n",
       "      <th>0</th>\n",
       "      <td>train_subject1095</td>\n",
       "      <td>NaN</td>\n",
       "      <td>2014-04-30 10:52:35</td>\n",
       "      <td>the last line is pretty much the same as the ...</td>\n",
       "      <td>True</td>\n",
       "      <td>line pretty course not read thing realize dupe</td>\n",
       "      <td>34</td>\n",
       "    </tr>\n",
       "    <tr>\n",
       "      <th>1</th>\n",
       "      <td>train_subject1095</td>\n",
       "      <td>NaN</td>\n",
       "      <td>2014-04-30 10:25:52</td>\n",
       "      <td>on the flipside generic canned ravioli is jus...</td>\n",
       "      <td>True</td>\n",
       "      <td>flipside generic can ravioli good brand big ...</td>\n",
       "      <td>29</td>\n",
       "    </tr>\n",
       "    <tr>\n",
       "      <th>2</th>\n",
       "      <td>train_subject1095</td>\n",
       "      <td>NaN</td>\n",
       "      <td>2014-04-30 10:23:26</td>\n",
       "      <td>at least make it illegal to perform on infant...</td>\n",
       "      <td>True</td>\n",
       "      <td>illegal perform infant absolutely matter</td>\n",
       "      <td>17</td>\n",
       "    </tr>\n",
       "    <tr>\n",
       "      <th>3</th>\n",
       "      <td>train_subject1095</td>\n",
       "      <td>NaN</td>\n",
       "      <td>2014-04-30 10:20:06</td>\n",
       "      <td>i feel like i am the only who has never seen ...</td>\n",
       "      <td>True</td>\n",
       "      <td>feel like see sushi gas station</td>\n",
       "      <td>16</td>\n",
       "    </tr>\n",
       "    <tr>\n",
       "      <th>4</th>\n",
       "      <td>train_subject1095</td>\n",
       "      <td>NaN</td>\n",
       "      <td>2014-04-30 10:16:36</td>\n",
       "      <td>if anything it was an act of god for his chut...</td>\n",
       "      <td>True</td>\n",
       "      <td>act god chute open</td>\n",
       "      <td>14</td>\n",
       "    </tr>\n",
       "    <tr>\n",
       "      <th>...</th>\n",
       "      <td>...</td>\n",
       "      <td>...</td>\n",
       "      <td>...</td>\n",
       "      <td>...</td>\n",
       "      <td>...</td>\n",
       "      <td>...</td>\n",
       "      <td>...</td>\n",
       "    </tr>\n",
       "    <tr>\n",
       "      <th>295016</th>\n",
       "      <td>train_subject9974</td>\n",
       "      <td>NaN</td>\n",
       "      <td>2015-04-02 16:52:44</td>\n",
       "      <td>yeah i have known too many privates end up wi...</td>\n",
       "      <td>False</td>\n",
       "      <td>yeah know private end stripper hooter girl k...</td>\n",
       "      <td>28</td>\n",
       "    </tr>\n",
       "    <tr>\n",
       "      <th>295017</th>\n",
       "      <td>train_subject9974</td>\n",
       "      <td>NaN</td>\n",
       "      <td>2015-04-02 16:14:56</td>\n",
       "      <td>i am a soldier i am regularly away from home ...</td>\n",
       "      <td>False</td>\n",
       "      <td>soldier regularly away home week month year ...</td>\n",
       "      <td>98</td>\n",
       "    </tr>\n",
       "    <tr>\n",
       "      <th>295018</th>\n",
       "      <td>train_subject9974</td>\n",
       "      <td>ELI5:the button</td>\n",
       "      <td>2015-04-02 04:15:51</td>\n",
       "      <td>please explain the button at rthebutton</td>\n",
       "      <td>False</td>\n",
       "      <td>explain button rthebutton</td>\n",
       "      <td>6</td>\n",
       "    </tr>\n",
       "    <tr>\n",
       "      <th>295019</th>\n",
       "      <td>train_subject9974</td>\n",
       "      <td>NaN</td>\n",
       "      <td>2015-04-02 02:33:16</td>\n",
       "      <td>stars and stripes is reporting the same thing...</td>\n",
       "      <td>False</td>\n",
       "      <td>star stripe report thing herehttpwwwstripesc...</td>\n",
       "      <td>31</td>\n",
       "    </tr>\n",
       "    <tr>\n",
       "      <th>295020</th>\n",
       "      <td>train_subject9974</td>\n",
       "      <td>NaN</td>\n",
       "      <td>2015-03-31 19:26:05</td>\n",
       "      <td>stranger danger if they give you the gold the...</td>\n",
       "      <td>False</td>\n",
       "      <td>strange danger gold want hole</td>\n",
       "      <td>14</td>\n",
       "    </tr>\n",
       "  </tbody>\n",
       "</table>\n",
       "<p>295021 rows × 7 columns</p>\n",
       "</div>"
      ],
      "text/plain": [
       "                       id              title                 date  \\\n",
       "0       train_subject1095                NaN  2014-04-30 10:52:35   \n",
       "1       train_subject1095                NaN  2014-04-30 10:25:52   \n",
       "2       train_subject1095                NaN  2014-04-30 10:23:26   \n",
       "3       train_subject1095                NaN  2014-04-30 10:20:06   \n",
       "4       train_subject1095                NaN  2014-04-30 10:16:36   \n",
       "...                   ...                ...                  ...   \n",
       "295016  train_subject9974                NaN  2015-04-02 16:52:44   \n",
       "295017  train_subject9974                NaN  2015-04-02 16:14:56   \n",
       "295018  train_subject9974   ELI5:the button   2015-04-02 04:15:51   \n",
       "295019  train_subject9974                NaN  2015-04-02 02:33:16   \n",
       "295020  train_subject9974                NaN  2015-03-31 19:26:05   \n",
       "\n",
       "                                                     text  depressive  \\\n",
       "0        the last line is pretty much the same as the ...        True   \n",
       "1        on the flipside generic canned ravioli is jus...        True   \n",
       "2        at least make it illegal to perform on infant...        True   \n",
       "3        i feel like i am the only who has never seen ...        True   \n",
       "4        if anything it was an act of god for his chut...        True   \n",
       "...                                                   ...         ...   \n",
       "295016   yeah i have known too many privates end up wi...       False   \n",
       "295017   i am a soldier i am regularly away from home ...       False   \n",
       "295018           please explain the button at rthebutton        False   \n",
       "295019   stars and stripes is reporting the same thing...       False   \n",
       "295020   stranger danger if they give you the gold the...       False   \n",
       "\n",
       "                                               lemmatized  totalwords  \n",
       "0          line pretty course not read thing realize dupe          34  \n",
       "1         flipside generic can ravioli good brand big ...          29  \n",
       "2                illegal perform infant absolutely matter          17  \n",
       "3                         feel like see sushi gas station          16  \n",
       "4                                      act god chute open          14  \n",
       "...                                                   ...         ...  \n",
       "295016    yeah know private end stripper hooter girl k...          28  \n",
       "295017    soldier regularly away home week month year ...          98  \n",
       "295018                          explain button rthebutton           6  \n",
       "295019    star stripe report thing herehttpwwwstripesc...          31  \n",
       "295020                      strange danger gold want hole          14  \n",
       "\n",
       "[295021 rows x 7 columns]"
      ]
     },
     "execution_count": 3,
     "metadata": {},
     "output_type": "execute_result"
    }
   ],
   "source": [
    "depression_corpus.drop(\"Unnamed: 0\", axis = 1)"
   ]
  },
  {
   "cell_type": "code",
   "execution_count": 4,
   "id": "02e5a54f",
   "metadata": {},
   "outputs": [],
   "source": [
    "depression_corpus.dropna(subset = [\"lemmatized\"], inplace = True)"
   ]
  },
  {
   "cell_type": "code",
   "execution_count": 5,
   "id": "74e62ed0",
   "metadata": {},
   "outputs": [],
   "source": [
    "Train_X, Test_X, Train_Y, Test_Y = model_selection.train_test_split(depression_corpus['lemmatized'],depression_corpus['depressive'],test_size=0.25)"
   ]
  },
  {
   "cell_type": "code",
   "execution_count": 6,
   "id": "52c9b347",
   "metadata": {},
   "outputs": [],
   "source": [
    "Encoder = LabelEncoder()\n",
    "Train_Y = Encoder.fit_transform(Train_Y)\n",
    "Test_Y = Encoder.fit_transform(Test_Y)"
   ]
  },
  {
   "cell_type": "code",
   "execution_count": 7,
   "id": "2f4e70af",
   "metadata": {},
   "outputs": [],
   "source": [
    "Tfidf_vect = TfidfVectorizer(max_features=10000)\n",
    "Tfidf_vect.fit(depression_corpus['lemmatized'])\n",
    "Train_X_Tfidf = Tfidf_vect.transform(Train_X)\n",
    "Test_X_Tfidf = Tfidf_vect.transform(Test_X)"
   ]
  },
  {
   "cell_type": "code",
   "execution_count": 8,
   "id": "26933e75",
   "metadata": {},
   "outputs": [
    {
     "name": "stdout",
     "output_type": "stream",
     "text": [
      "[LibSVM]SVM Accuracy Score ->  89.72001898176394\n"
     ]
    }
   ],
   "source": [
    "SVM = svm.SVC(C=1.0, kernel='linear', degree=3, gamma='auto', verbose=True)\n",
    "SVM.fit(Train_X_Tfidf,Train_Y)\n",
    "predictions_SVM = SVM.predict(Test_X_Tfidf)\n",
    "print(\"SVM Accuracy Score -> \",accuracy_score(predictions_SVM, Test_Y)*100)"
   ]
  },
  {
   "cell_type": "code",
   "execution_count": 9,
   "id": "a91f537d",
   "metadata": {},
   "outputs": [
    {
     "name": "stdout",
     "output_type": "stream",
     "text": [
      "              precision    recall  f1-score   support\n",
      "\n",
      "           0       0.90      1.00      0.95     66028\n",
      "           1       0.66      0.04      0.07      7727\n",
      "\n",
      "    accuracy                           0.90     73755\n",
      "   macro avg       0.78      0.52      0.51     73755\n",
      "weighted avg       0.87      0.90      0.85     73755\n",
      "\n"
     ]
    }
   ],
   "source": [
    "print(classification_report(Test_Y,predictions_SVM))"
   ]
  },
  {
   "cell_type": "code",
   "execution_count": 12,
   "id": "5ef75458",
   "metadata": {
    "scrolled": false
   },
   "outputs": [
    {
     "data": {
      "text/plain": [
       "SVC(gamma='auto')"
      ]
     },
     "execution_count": 12,
     "metadata": {},
     "output_type": "execute_result"
    }
   ],
   "source": [
    "SVM = svm.SVC(C=1.0, kernel='rbf', degree=3, gamma='auto')\n",
    "SVM.fit(Train_X_Tfidf,Train_Y)"
   ]
  },
  {
   "cell_type": "code",
   "execution_count": 13,
   "id": "f76499e7",
   "metadata": {},
   "outputs": [
    {
     "name": "stdout",
     "output_type": "stream",
     "text": [
      "SVM Accuracy Score ->  89.5234221408718\n"
     ]
    }
   ],
   "source": [
    "predictions_SVM = SVM.predict(Test_X_Tfidf)\n",
    "print(\"SVM Accuracy Score -> \",accuracy_score(predictions_SVM, Test_Y)*100)"
   ]
  },
  {
   "cell_type": "code",
   "execution_count": 14,
   "id": "b31d4445",
   "metadata": {},
   "outputs": [
    {
     "name": "stdout",
     "output_type": "stream",
     "text": [
      "              precision    recall  f1-score   support\n",
      "\n",
      "           0       0.90      1.00      0.94     66028\n",
      "           1       0.00      0.00      0.00      7727\n",
      "\n",
      "    accuracy                           0.90     73755\n",
      "   macro avg       0.45      0.50      0.47     73755\n",
      "weighted avg       0.80      0.90      0.85     73755\n",
      "\n"
     ]
    },
    {
     "name": "stderr",
     "output_type": "stream",
     "text": [
      "C:\\Users\\USER\\anaconda3\\lib\\site-packages\\sklearn\\metrics\\_classification.py:1245: UndefinedMetricWarning: Precision and F-score are ill-defined and being set to 0.0 in labels with no predicted samples. Use `zero_division` parameter to control this behavior.\n",
      "  _warn_prf(average, modifier, msg_start, len(result))\n",
      "C:\\Users\\USER\\anaconda3\\lib\\site-packages\\sklearn\\metrics\\_classification.py:1245: UndefinedMetricWarning: Precision and F-score are ill-defined and being set to 0.0 in labels with no predicted samples. Use `zero_division` parameter to control this behavior.\n",
      "  _warn_prf(average, modifier, msg_start, len(result))\n",
      "C:\\Users\\USER\\anaconda3\\lib\\site-packages\\sklearn\\metrics\\_classification.py:1245: UndefinedMetricWarning: Precision and F-score are ill-defined and being set to 0.0 in labels with no predicted samples. Use `zero_division` parameter to control this behavior.\n",
      "  _warn_prf(average, modifier, msg_start, len(result))\n"
     ]
    }
   ],
   "source": [
    "print(classification_report(Test_Y,predictions_SVM))"
   ]
  },
  {
   "cell_type": "code",
   "execution_count": 15,
   "id": "9c6a2de3",
   "metadata": {},
   "outputs": [
    {
     "data": {
      "text/plain": [
       "SVC()"
      ]
     },
     "execution_count": 15,
     "metadata": {},
     "output_type": "execute_result"
    }
   ],
   "source": [
    "SVM = svm.SVC(C=1.0, kernel='rbf', degree=3, gamma='scale')\n",
    "SVM.fit(Train_X_Tfidf,Train_Y)"
   ]
  },
  {
   "cell_type": "code",
   "execution_count": 16,
   "id": "0e4165b7",
   "metadata": {},
   "outputs": [
    {
     "name": "stdout",
     "output_type": "stream",
     "text": [
      "SVM Accuracy Score ->  89.9722052742187\n"
     ]
    }
   ],
   "source": [
    "predictions_SVM = SVM.predict(Test_X_Tfidf)\n",
    "print(\"SVM Accuracy Score -> \",accuracy_score(predictions_SVM, Test_Y)*100)"
   ]
  },
  {
   "cell_type": "code",
   "execution_count": 17,
   "id": "75aa7d23",
   "metadata": {},
   "outputs": [
    {
     "name": "stdout",
     "output_type": "stream",
     "text": [
      "              precision    recall  f1-score   support\n",
      "\n",
      "           0       0.90      1.00      0.95     66028\n",
      "           1       0.82      0.06      0.10      7727\n",
      "\n",
      "    accuracy                           0.90     73755\n",
      "   macro avg       0.86      0.53      0.53     73755\n",
      "weighted avg       0.89      0.90      0.86     73755\n",
      "\n"
     ]
    }
   ],
   "source": [
    "print(classification_report(Test_Y,predictions_SVM))"
   ]
  },
  {
   "cell_type": "code",
   "execution_count": null,
   "id": "30f10369",
   "metadata": {},
   "outputs": [],
   "source": []
  },
  {
   "cell_type": "code",
   "execution_count": null,
   "id": "0fcf619c",
   "metadata": {},
   "outputs": [],
   "source": []
  }
 ],
 "metadata": {
  "kernelspec": {
   "display_name": "Python 3",
   "language": "python",
   "name": "python3"
  },
  "language_info": {
   "codemirror_mode": {
    "name": "ipython",
    "version": 3
   },
   "file_extension": ".py",
   "mimetype": "text/x-python",
   "name": "python",
   "nbconvert_exporter": "python",
   "pygments_lexer": "ipython3",
   "version": "3.8.8"
  }
 },
 "nbformat": 4,
 "nbformat_minor": 5
}
