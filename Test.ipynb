{
 "cells": [
  {
   "cell_type": "markdown",
   "id": "a87397f6",
   "metadata": {},
   "source": [
    "**Libraries**"
   ]
  },
  {
   "cell_type": "code",
   "execution_count": 1,
   "id": "9dd8abd9",
   "metadata": {},
   "outputs": [],
   "source": [
    "import xml.etree.ElementTree as et \n",
    "import pandas as pd \n",
    "import glob\n",
    "from datetime import datetime\n",
    "import re\n",
    "import string\n",
    "import spacy\n",
    "import matplotlib.pyplot as plt\n",
    "import pandas as pd\n",
    "import gensim\n",
    "from tqdm.notebook import tqdm\n",
    "import unicodedata\n",
    "import spacy"
   ]
  },
  {
   "cell_type": "code",
   "execution_count": 2,
   "id": "baadead5",
   "metadata": {},
   "outputs": [],
   "source": [
    "tqdm.pandas()"
   ]
  },
  {
   "cell_type": "markdown",
   "id": "25c0a204",
   "metadata": {},
   "source": [
    "**Column Definitions**"
   ]
  },
  {
   "cell_type": "code",
   "execution_count": 3,
   "id": "c7ee5465",
   "metadata": {},
   "outputs": [],
   "source": [
    "df_cols = ['id','title', 'date', 'text','depressive']"
   ]
  },
  {
   "cell_type": "markdown",
   "id": "3583f3ee",
   "metadata": {},
   "source": [
    "**Loading Data**"
   ]
  },
  {
   "cell_type": "code",
   "execution_count": 8,
   "id": "f22330d5",
   "metadata": {},
   "outputs": [
    {
     "data": {
      "text/html": [
       "<div>\n",
       "<style scoped>\n",
       "    .dataframe tbody tr th:only-of-type {\n",
       "        vertical-align: middle;\n",
       "    }\n",
       "\n",
       "    .dataframe tbody tr th {\n",
       "        vertical-align: top;\n",
       "    }\n",
       "\n",
       "    .dataframe thead th {\n",
       "        text-align: right;\n",
       "    }\n",
       "</style>\n",
       "<table border=\"1\" class=\"dataframe\">\n",
       "  <thead>\n",
       "    <tr style=\"text-align: right;\">\n",
       "      <th></th>\n",
       "      <th>id</th>\n",
       "      <th>title</th>\n",
       "      <th>date</th>\n",
       "      <th>text</th>\n",
       "      <th>depressive</th>\n",
       "    </tr>\n",
       "  </thead>\n",
       "  <tbody>\n",
       "    <tr>\n",
       "      <th>0</th>\n",
       "      <td>train_subject3125</td>\n",
       "      <td>None</td>\n",
       "      <td>2015-07-08 18:12:40</td>\n",
       "      <td>I have decided just to get him a trim on his ...</td>\n",
       "      <td>True</td>\n",
       "    </tr>\n",
       "    <tr>\n",
       "      <th>1</th>\n",
       "      <td>train_subject3125</td>\n",
       "      <td>Is this good or bad ?</td>\n",
       "      <td>2015-07-08 18:08:44</td>\n",
       "      <td></td>\n",
       "      <td>True</td>\n",
       "    </tr>\n",
       "    <tr>\n",
       "      <th>2</th>\n",
       "      <td>train_subject3125</td>\n",
       "      <td>Hair cuts</td>\n",
       "      <td>2015-07-08 05:58:28</td>\n",
       "      <td>Should I get my handsome boys hair cut?\\nDoes...</td>\n",
       "      <td>True</td>\n",
       "    </tr>\n",
       "    <tr>\n",
       "      <th>3</th>\n",
       "      <td>train_subject3125</td>\n",
       "      <td>None</td>\n",
       "      <td>2015-06-26 10:47:48</td>\n",
       "      <td>John Wilkes Woof</td>\n",
       "      <td>True</td>\n",
       "    </tr>\n",
       "    <tr>\n",
       "      <th>4</th>\n",
       "      <td>train_subject3125</td>\n",
       "      <td>None</td>\n",
       "      <td>2015-06-26 10:46:12</td>\n",
       "      <td>I'd watch him on that balcony... Didn't go so...</td>\n",
       "      <td>True</td>\n",
       "    </tr>\n",
       "    <tr>\n",
       "      <th>...</th>\n",
       "      <td>...</td>\n",
       "      <td>...</td>\n",
       "      <td>...</td>\n",
       "      <td>...</td>\n",
       "      <td>...</td>\n",
       "    </tr>\n",
       "    <tr>\n",
       "      <th>30846</th>\n",
       "      <td>train_subject8901</td>\n",
       "      <td>None</td>\n",
       "      <td>2015-07-01 18:50:26</td>\n",
       "      <td>What about the death of Joffrey Cuntface and ...</td>\n",
       "      <td>True</td>\n",
       "    </tr>\n",
       "    <tr>\n",
       "      <th>30847</th>\n",
       "      <td>train_subject8901</td>\n",
       "      <td>None</td>\n",
       "      <td>2015-07-01 18:40:09</td>\n",
       "      <td>I actually don't like her much</td>\n",
       "      <td>True</td>\n",
       "    </tr>\n",
       "    <tr>\n",
       "      <th>30848</th>\n",
       "      <td>train_subject8901</td>\n",
       "      <td>None</td>\n",
       "      <td>2015-07-01 17:56:46</td>\n",
       "      <td>The drug dealer neighbor that throws badass p...</td>\n",
       "      <td>True</td>\n",
       "    </tr>\n",
       "    <tr>\n",
       "      <th>30849</th>\n",
       "      <td>train_subject8901</td>\n",
       "      <td>Hydrocone any good?</td>\n",
       "      <td>2015-06-30 19:40:16</td>\n",
       "      <td></td>\n",
       "      <td>True</td>\n",
       "    </tr>\n",
       "    <tr>\n",
       "      <th>30850</th>\n",
       "      <td>train_subject8901</td>\n",
       "      <td>Total n00b</td>\n",
       "      <td>2015-06-30 18:39:43</td>\n",
       "      <td>Hey guys,  I don't really know how this works...</td>\n",
       "      <td>True</td>\n",
       "    </tr>\n",
       "  </tbody>\n",
       "</table>\n",
       "<p>30851 rows × 5 columns</p>\n",
       "</div>"
      ],
      "text/plain": [
       "                      id                    title                date  \\\n",
       "0      train_subject3125                     None 2015-07-08 18:12:40   \n",
       "1      train_subject3125   Is this good or bad ?  2015-07-08 18:08:44   \n",
       "2      train_subject3125               Hair cuts  2015-07-08 05:58:28   \n",
       "3      train_subject3125                     None 2015-06-26 10:47:48   \n",
       "4      train_subject3125                     None 2015-06-26 10:46:12   \n",
       "...                  ...                      ...                 ...   \n",
       "30846  train_subject8901                     None 2015-07-01 18:50:26   \n",
       "30847  train_subject8901                     None 2015-07-01 18:40:09   \n",
       "30848  train_subject8901                     None 2015-07-01 17:56:46   \n",
       "30849  train_subject8901     Hydrocone any good?  2015-06-30 19:40:16   \n",
       "30850  train_subject8901              Total n00b  2015-06-30 18:39:43   \n",
       "\n",
       "                                                    text  depressive  \n",
       "0       I have decided just to get him a trim on his ...        True  \n",
       "1                                                               True  \n",
       "2       Should I get my handsome boys hair cut?\\nDoes...        True  \n",
       "3                                     John Wilkes Woof          True  \n",
       "4       I'd watch him on that balcony... Didn't go so...        True  \n",
       "...                                                  ...         ...  \n",
       "30846   What about the death of Joffrey Cuntface and ...        True  \n",
       "30847                    I actually don't like her much         True  \n",
       "30848   The drug dealer neighbor that throws badass p...        True  \n",
       "30849                                                           True  \n",
       "30850   Hey guys,  I don't really know how this works...        True  \n",
       "\n",
       "[30851 rows x 5 columns]"
      ]
     },
     "metadata": {},
     "output_type": "display_data"
    }
   ],
   "source": [
    "t_id = \"\"\n",
    "rows = []\n",
    "files = glob.glob(\"/home/mirza_abdullah_al_noman/Thesis/reddit-training-ready-to-share/positive_examples_anonymous/train_subject[0-9]*.xml\")\n",
    "for file in files:\n",
    "    with open(file, 'r', encoding=\"utf-8\") as content:\n",
    "        tree = et.parse(content)\n",
    "        root = tree.getroot()\n",
    "        for node in root:\n",
    "            t_title = \"\"\n",
    "            t_date = \"\"\n",
    "            t_text = \"\"\n",
    "            if node.tag == \"ID\":\n",
    "                t_id = node.text\n",
    "            else:\n",
    "                if node.tag == \"WRITING\":\n",
    "                    for val in node:\n",
    "                        if val.tag == \"TITLE\":\n",
    "                            if len(val.text) == 3 and val.text [1] == \" \":\n",
    "                                t_title = None\n",
    "                            else:\n",
    "                                t_title = val.text\n",
    "                        elif val.tag == \"DATE\":\n",
    "                            if len(val.text) == 3 and val.text [1] == \" \":\n",
    "                                t_date = None\n",
    "                            else:\n",
    "                                t_date = datetime.strptime(val.text, ' %Y-%m-%d %H:%M:%S ')\n",
    "                        elif val.tag == \"TEXT\":\n",
    "                            if len(val.text) == 3 and val.text [1] == \" \":\n",
    "                                t_text = None\n",
    "                            else:\n",
    "                                t_text = val.text\n",
    "                rows.append({'id':t_id, 'title':t_title, 'date':t_date, 'text':t_text, 'depressive':True})\n",
    "positive_dataframe = pd.DataFrame(rows, columns = df_cols)\n",
    "display(positive_dataframe)"
   ]
  },
  {
   "cell_type": "code",
   "execution_count": 10,
   "id": "c84dfefb",
   "metadata": {},
   "outputs": [
    {
     "data": {
      "text/html": [
       "<div>\n",
       "<style scoped>\n",
       "    .dataframe tbody tr th:only-of-type {\n",
       "        vertical-align: middle;\n",
       "    }\n",
       "\n",
       "    .dataframe tbody tr th {\n",
       "        vertical-align: top;\n",
       "    }\n",
       "\n",
       "    .dataframe thead th {\n",
       "        text-align: right;\n",
       "    }\n",
       "</style>\n",
       "<table border=\"1\" class=\"dataframe\">\n",
       "  <thead>\n",
       "    <tr style=\"text-align: right;\">\n",
       "      <th></th>\n",
       "      <th>id</th>\n",
       "      <th>title</th>\n",
       "      <th>date</th>\n",
       "      <th>text</th>\n",
       "      <th>depressive</th>\n",
       "    </tr>\n",
       "  </thead>\n",
       "  <tbody>\n",
       "    <tr>\n",
       "      <th>0</th>\n",
       "      <td>train_subject7851</td>\n",
       "      <td>None</td>\n",
       "      <td>2015-07-22 12:35:42</td>\n",
       "      <td>X1 for 300 can be often found on sale. Amazon...</td>\n",
       "      <td>False</td>\n",
       "    </tr>\n",
       "    <tr>\n",
       "      <th>1</th>\n",
       "      <td>train_subject7851</td>\n",
       "      <td>None</td>\n",
       "      <td>2015-07-22 10:43:28</td>\n",
       "      <td>I travel about 175-225 days a year for work w...</td>\n",
       "      <td>False</td>\n",
       "    </tr>\n",
       "    <tr>\n",
       "      <th>2</th>\n",
       "      <td>train_subject7851</td>\n",
       "      <td>None</td>\n",
       "      <td>2015-07-22 09:52:42</td>\n",
       "      <td>Sounds like my perfect flatmate.</td>\n",
       "      <td>False</td>\n",
       "    </tr>\n",
       "    <tr>\n",
       "      <th>3</th>\n",
       "      <td>train_subject7851</td>\n",
       "      <td>I'm not sure what all the fuss about Donald T...</td>\n",
       "      <td>2015-07-22 09:32:34</td>\n",
       "      <td></td>\n",
       "      <td>False</td>\n",
       "    </tr>\n",
       "    <tr>\n",
       "      <th>4</th>\n",
       "      <td>train_subject7851</td>\n",
       "      <td>None</td>\n",
       "      <td>2015-07-22 09:23:50</td>\n",
       "      <td>On that note. Many starting keto people don't...</td>\n",
       "      <td>False</td>\n",
       "    </tr>\n",
       "    <tr>\n",
       "      <th>...</th>\n",
       "      <td>...</td>\n",
       "      <td>...</td>\n",
       "      <td>...</td>\n",
       "      <td>...</td>\n",
       "      <td>...</td>\n",
       "    </tr>\n",
       "    <tr>\n",
       "      <th>264167</th>\n",
       "      <td>train_subject475</td>\n",
       "      <td>None</td>\n",
       "      <td>2014-07-18 09:18:15</td>\n",
       "      <td>Yep. Super annoying. I stopped handing them o...</td>\n",
       "      <td>False</td>\n",
       "    </tr>\n",
       "    <tr>\n",
       "      <th>264168</th>\n",
       "      <td>train_subject475</td>\n",
       "      <td>None</td>\n",
       "      <td>2014-07-16 20:11:32</td>\n",
       "      <td>One time I had a customer who loaded up her e...</td>\n",
       "      <td>False</td>\n",
       "    </tr>\n",
       "    <tr>\n",
       "      <th>264169</th>\n",
       "      <td>train_subject475</td>\n",
       "      <td>None</td>\n",
       "      <td>2014-07-13 04:30:10</td>\n",
       "      <td>Yep. Whenever a customer says \"Hey you should...</td>\n",
       "      <td>False</td>\n",
       "    </tr>\n",
       "    <tr>\n",
       "      <th>264170</th>\n",
       "      <td>train_subject475</td>\n",
       "      <td>None</td>\n",
       "      <td>2014-07-13 04:18:06</td>\n",
       "      <td>32 cent raise.</td>\n",
       "      <td>False</td>\n",
       "    </tr>\n",
       "    <tr>\n",
       "      <th>264171</th>\n",
       "      <td>train_subject475</td>\n",
       "      <td>None</td>\n",
       "      <td>2014-07-09 23:21:21</td>\n",
       "      <td>I only get points from my GM, and I won some ...</td>\n",
       "      <td>False</td>\n",
       "    </tr>\n",
       "  </tbody>\n",
       "</table>\n",
       "<p>264172 rows × 5 columns</p>\n",
       "</div>"
      ],
      "text/plain": [
       "                       id                                              title  \\\n",
       "0       train_subject7851                                               None   \n",
       "1       train_subject7851                                               None   \n",
       "2       train_subject7851                                               None   \n",
       "3       train_subject7851   I'm not sure what all the fuss about Donald T...   \n",
       "4       train_subject7851                                               None   \n",
       "...                   ...                                                ...   \n",
       "264167   train_subject475                                               None   \n",
       "264168   train_subject475                                               None   \n",
       "264169   train_subject475                                               None   \n",
       "264170   train_subject475                                               None   \n",
       "264171   train_subject475                                               None   \n",
       "\n",
       "                      date                                               text  \\\n",
       "0      2015-07-22 12:35:42   X1 for 300 can be often found on sale. Amazon...   \n",
       "1      2015-07-22 10:43:28   I travel about 175-225 days a year for work w...   \n",
       "2      2015-07-22 09:52:42                  Sounds like my perfect flatmate.    \n",
       "3      2015-07-22 09:32:34                                                      \n",
       "4      2015-07-22 09:23:50   On that note. Many starting keto people don't...   \n",
       "...                    ...                                                ...   \n",
       "264167 2014-07-18 09:18:15   Yep. Super annoying. I stopped handing them o...   \n",
       "264168 2014-07-16 20:11:32   One time I had a customer who loaded up her e...   \n",
       "264169 2014-07-13 04:30:10   Yep. Whenever a customer says \"Hey you should...   \n",
       "264170 2014-07-13 04:18:06                                   32 cent raise.     \n",
       "264171 2014-07-09 23:21:21   I only get points from my GM, and I won some ...   \n",
       "\n",
       "        depressive  \n",
       "0            False  \n",
       "1            False  \n",
       "2            False  \n",
       "3            False  \n",
       "4            False  \n",
       "...            ...  \n",
       "264167       False  \n",
       "264168       False  \n",
       "264169       False  \n",
       "264170       False  \n",
       "264171       False  \n",
       "\n",
       "[264172 rows x 5 columns]"
      ]
     },
     "metadata": {},
     "output_type": "display_data"
    }
   ],
   "source": [
    "t_id = \"\"\n",
    "rows = []\n",
    "files = glob.glob(\"/home/mirza_abdullah_al_noman/Thesis/reddit-training-ready-to-share/negative_examples_anonymous/train_subject[0-9]*.xml\")\n",
    "for file in files:\n",
    "    with open(file, 'r', encoding=\"utf-8\") as content:\n",
    "        tree = et.parse(content)\n",
    "        root = tree.getroot()\n",
    "        for node in root:\n",
    "            t_title = \"\"\n",
    "            t_date = \"\"\n",
    "            t_text = \"\"\n",
    "            if node.tag == \"ID\":\n",
    "                t_id = node.text\n",
    "            else:\n",
    "                if node.tag == \"WRITING\":\n",
    "                    for val in node:\n",
    "                        if val.tag == \"TITLE\":\n",
    "                            if len(val.text) == 3 and val.text [1] == \" \":\n",
    "                                t_title = None\n",
    "                            else:\n",
    "                                t_title = val.text\n",
    "                        elif val.tag == \"DATE\":\n",
    "                            if len(val.text) == 3 and val.text [1] == \" \":\n",
    "                                t_date = None\n",
    "                            else:\n",
    "                                t_date = datetime.strptime(val.text, ' %Y-%m-%d %H:%M:%S ')\n",
    "                        elif val.tag == \"TEXT\":\n",
    "                            if len(val.text) == 3 and val.text [1] == \" \":\n",
    "                                t_text = None\n",
    "                            else:\n",
    "                                t_text = val.text\n",
    "                rows.append({'id':t_id, 'title':t_title, 'date':t_date, 'text':t_text, 'depressive':False})\n",
    "negative_dataframe = pd.DataFrame(rows, columns = df_cols)\n",
    "display(negative_dataframe)"
   ]
  },
  {
   "cell_type": "code",
   "execution_count": 11,
   "id": "ce7f1ef8",
   "metadata": {},
   "outputs": [
    {
     "data": {
      "text/html": [
       "<div>\n",
       "<style scoped>\n",
       "    .dataframe tbody tr th:only-of-type {\n",
       "        vertical-align: middle;\n",
       "    }\n",
       "\n",
       "    .dataframe tbody tr th {\n",
       "        vertical-align: top;\n",
       "    }\n",
       "\n",
       "    .dataframe thead th {\n",
       "        text-align: right;\n",
       "    }\n",
       "</style>\n",
       "<table border=\"1\" class=\"dataframe\">\n",
       "  <thead>\n",
       "    <tr style=\"text-align: right;\">\n",
       "      <th></th>\n",
       "      <th>id</th>\n",
       "      <th>title</th>\n",
       "      <th>date</th>\n",
       "      <th>text</th>\n",
       "      <th>depressive</th>\n",
       "    </tr>\n",
       "  </thead>\n",
       "  <tbody>\n",
       "    <tr>\n",
       "      <th>0</th>\n",
       "      <td>train_subject3125</td>\n",
       "      <td>None</td>\n",
       "      <td>2015-07-08 18:12:40</td>\n",
       "      <td>I have decided just to get him a trim on his ...</td>\n",
       "      <td>True</td>\n",
       "    </tr>\n",
       "    <tr>\n",
       "      <th>1</th>\n",
       "      <td>train_subject3125</td>\n",
       "      <td>Is this good or bad ?</td>\n",
       "      <td>2015-07-08 18:08:44</td>\n",
       "      <td></td>\n",
       "      <td>True</td>\n",
       "    </tr>\n",
       "    <tr>\n",
       "      <th>2</th>\n",
       "      <td>train_subject3125</td>\n",
       "      <td>Hair cuts</td>\n",
       "      <td>2015-07-08 05:58:28</td>\n",
       "      <td>Should I get my handsome boys hair cut?\\nDoes...</td>\n",
       "      <td>True</td>\n",
       "    </tr>\n",
       "    <tr>\n",
       "      <th>3</th>\n",
       "      <td>train_subject3125</td>\n",
       "      <td>None</td>\n",
       "      <td>2015-06-26 10:47:48</td>\n",
       "      <td>John Wilkes Woof</td>\n",
       "      <td>True</td>\n",
       "    </tr>\n",
       "    <tr>\n",
       "      <th>4</th>\n",
       "      <td>train_subject3125</td>\n",
       "      <td>None</td>\n",
       "      <td>2015-06-26 10:46:12</td>\n",
       "      <td>I'd watch him on that balcony... Didn't go so...</td>\n",
       "      <td>True</td>\n",
       "    </tr>\n",
       "    <tr>\n",
       "      <th>...</th>\n",
       "      <td>...</td>\n",
       "      <td>...</td>\n",
       "      <td>...</td>\n",
       "      <td>...</td>\n",
       "      <td>...</td>\n",
       "    </tr>\n",
       "    <tr>\n",
       "      <th>295018</th>\n",
       "      <td>train_subject475</td>\n",
       "      <td>None</td>\n",
       "      <td>2014-07-18 09:18:15</td>\n",
       "      <td>Yep. Super annoying. I stopped handing them o...</td>\n",
       "      <td>False</td>\n",
       "    </tr>\n",
       "    <tr>\n",
       "      <th>295019</th>\n",
       "      <td>train_subject475</td>\n",
       "      <td>None</td>\n",
       "      <td>2014-07-16 20:11:32</td>\n",
       "      <td>One time I had a customer who loaded up her e...</td>\n",
       "      <td>False</td>\n",
       "    </tr>\n",
       "    <tr>\n",
       "      <th>295020</th>\n",
       "      <td>train_subject475</td>\n",
       "      <td>None</td>\n",
       "      <td>2014-07-13 04:30:10</td>\n",
       "      <td>Yep. Whenever a customer says \"Hey you should...</td>\n",
       "      <td>False</td>\n",
       "    </tr>\n",
       "    <tr>\n",
       "      <th>295021</th>\n",
       "      <td>train_subject475</td>\n",
       "      <td>None</td>\n",
       "      <td>2014-07-13 04:18:06</td>\n",
       "      <td>32 cent raise.</td>\n",
       "      <td>False</td>\n",
       "    </tr>\n",
       "    <tr>\n",
       "      <th>295022</th>\n",
       "      <td>train_subject475</td>\n",
       "      <td>None</td>\n",
       "      <td>2014-07-09 23:21:21</td>\n",
       "      <td>I only get points from my GM, and I won some ...</td>\n",
       "      <td>False</td>\n",
       "    </tr>\n",
       "  </tbody>\n",
       "</table>\n",
       "<p>295023 rows × 5 columns</p>\n",
       "</div>"
      ],
      "text/plain": [
       "                       id                    title                date  \\\n",
       "0       train_subject3125                     None 2015-07-08 18:12:40   \n",
       "1       train_subject3125   Is this good or bad ?  2015-07-08 18:08:44   \n",
       "2       train_subject3125               Hair cuts  2015-07-08 05:58:28   \n",
       "3       train_subject3125                     None 2015-06-26 10:47:48   \n",
       "4       train_subject3125                     None 2015-06-26 10:46:12   \n",
       "...                   ...                      ...                 ...   \n",
       "295018   train_subject475                     None 2014-07-18 09:18:15   \n",
       "295019   train_subject475                     None 2014-07-16 20:11:32   \n",
       "295020   train_subject475                     None 2014-07-13 04:30:10   \n",
       "295021   train_subject475                     None 2014-07-13 04:18:06   \n",
       "295022   train_subject475                     None 2014-07-09 23:21:21   \n",
       "\n",
       "                                                     text  depressive  \n",
       "0        I have decided just to get him a trim on his ...        True  \n",
       "1                                                                True  \n",
       "2        Should I get my handsome boys hair cut?\\nDoes...        True  \n",
       "3                                      John Wilkes Woof          True  \n",
       "4        I'd watch him on that balcony... Didn't go so...        True  \n",
       "...                                                   ...         ...  \n",
       "295018   Yep. Super annoying. I stopped handing them o...       False  \n",
       "295019   One time I had a customer who loaded up her e...       False  \n",
       "295020   Yep. Whenever a customer says \"Hey you should...       False  \n",
       "295021                                   32 cent raise.         False  \n",
       "295022   I only get points from my GM, and I won some ...       False  \n",
       "\n",
       "[295023 rows x 5 columns]"
      ]
     },
     "metadata": {},
     "output_type": "display_data"
    }
   ],
   "source": [
    "frames = [positive_dataframe,negative_dataframe]\n",
    "corpus = pd.concat(frames,ignore_index=True)\n",
    "display(corpus)"
   ]
  },
  {
   "cell_type": "markdown",
   "id": "2bc469e8",
   "metadata": {},
   "source": [
    "**Null Checking and Removal**"
   ]
  },
  {
   "cell_type": "code",
   "execution_count": 12,
   "id": "e8990585",
   "metadata": {},
   "outputs": [
    {
     "data": {
      "text/plain": [
       "id                 0\n",
       "title         198720\n",
       "date               0\n",
       "text               2\n",
       "depressive         0\n",
       "dtype: int64"
      ]
     },
     "execution_count": 12,
     "metadata": {},
     "output_type": "execute_result"
    }
   ],
   "source": [
    "corpus.isnull().sum()"
   ]
  },
  {
   "cell_type": "code",
   "execution_count": 13,
   "id": "767242be",
   "metadata": {},
   "outputs": [
    {
     "data": {
      "text/plain": [
       "id                 0\n",
       "title         198718\n",
       "date               0\n",
       "text               0\n",
       "depressive         0\n",
       "dtype: int64"
      ]
     },
     "execution_count": 13,
     "metadata": {},
     "output_type": "execute_result"
    }
   ],
   "source": [
    "corpus.dropna(subset = ['text'], inplace=True)\n",
    "corpus.isnull().sum()"
   ]
  },
  {
   "cell_type": "markdown",
   "id": "b582e4ab",
   "metadata": {},
   "source": [
    "**Contraction Removal**"
   ]
  },
  {
   "cell_type": "code",
   "execution_count": 16,
   "id": "b6d04f49",
   "metadata": {},
   "outputs": [],
   "source": [
    "CONTRACTION_MAP = {\n",
    "\"ain't\": \"is not\",\n",
    "\"aren't\": \"are not\",\n",
    "\"can't\": \"cannot\",\n",
    "\"can't've\": \"cannot have\",\n",
    "\"'cause\": \"because\",\n",
    "\"could've\": \"could have\",\n",
    "\"couldn't\": \"could not\",\n",
    "\"couldn't've\": \"could not have\",\n",
    "\"didn't\": \"did not\",\n",
    "\"doesn't\": \"does not\",\n",
    "\"don't\": \"do not\",\n",
    "\"hadn't\": \"had not\",\n",
    "\"hadn't've\": \"had not have\",\n",
    "\"hasn't\": \"has not\",\n",
    "\"haven't\": \"have not\",\n",
    "\"he'd\": \"he would\",\n",
    "\"he'd've\": \"he would have\",\n",
    "\"he'll\": \"he will\",\n",
    "\"he'll've\": \"he he will have\",\n",
    "\"he's\": \"he is\",\n",
    "\"how'd\": \"how did\",\n",
    "\"how'd'y\": \"how do you\",\n",
    "\"how'll\": \"how will\",\n",
    "\"how's\": \"how is\",\n",
    "\"I'd\": \"I would\",\n",
    "\"I'd've\": \"I would have\",\n",
    "\"I'll\": \"I will\",\n",
    "\"I'll've\": \"I will have\",\n",
    "\"I'm\": \"I am\",\n",
    "\"I've\": \"I have\",\n",
    "\"i'd\": \"i would\",\n",
    "\"i'd've\": \"i would have\",\n",
    "\"i'll\": \"i will\",\n",
    "\"i'll've\": \"i will have\",\n",
    "\"i'm\": \"i am\",\n",
    "\"i've\": \"i have\",\n",
    "\"isn't\": \"is not\",\n",
    "\"it'd\": \"it would\",\n",
    "\"it'd've\": \"it would have\",\n",
    "\"it'll\": \"it will\",\n",
    "\"it'll've\": \"it will have\",\n",
    "\"it's\": \"it is\",\n",
    "\"let's\": \"let us\",\n",
    "\"ma'am\": \"madam\",\n",
    "\"mayn't\": \"may not\",\n",
    "\"might've\": \"might have\",\n",
    "\"mightn't\": \"might not\",\n",
    "\"mightn't've\": \"might not have\",\n",
    "\"must've\": \"must have\",\n",
    "\"mustn't\": \"must not\",\n",
    "\"mustn't've\": \"must not have\",\n",
    "\"needn't\": \"need not\",\n",
    "\"needn't've\": \"need not have\",\n",
    "\"o'clock\": \"of the clock\",\n",
    "\"oughtn't\": \"ought not\",\n",
    "\"oughtn't've\": \"ought not have\",\n",
    "\"shan't\": \"shall not\",\n",
    "\"sha'n't\": \"shall not\",\n",
    "\"shan't've\": \"shall not have\",\n",
    "\"she'd\": \"she would\",\n",
    "\"she'd've\": \"she would have\",\n",
    "\"she'll\": \"she will\",\n",
    "\"she'll've\": \"she will have\",\n",
    "\"she's\": \"she is\",\n",
    "\"should've\": \"should have\",\n",
    "\"shouldn't\": \"should not\",\n",
    "\"shouldn't've\": \"should not have\",\n",
    "\"so've\": \"so have\",\n",
    "\"so's\": \"so as\",\n",
    "\"that'd\": \"that would\",\n",
    "\"that'd've\": \"that would have\",\n",
    "\"that's\": \"that is\",\n",
    "\"there'd\": \"there would\",\n",
    "\"there'd've\": \"there would have\",\n",
    "\"there's\": \"there is\",\n",
    "\"they'd\": \"they would\",\n",
    "\"they'd've\": \"they would have\",\n",
    "\"they'll\": \"they will\",\n",
    "\"they'll've\": \"they will have\",\n",
    "\"they're\": \"they are\",\n",
    "\"they've\": \"they have\",\n",
    "\"to've\": \"to have\",\n",
    "\"wasn't\": \"was not\",\n",
    "\"we'd\": \"we would\",\n",
    "\"we'd've\": \"we would have\",\n",
    "\"we'll\": \"we will\",\n",
    "\"we'll've\": \"we will have\",\n",
    "\"we're\": \"we are\",\n",
    "\"we've\": \"we have\",\n",
    "\"weren't\": \"were not\",\n",
    "\"what'll\": \"what will\",\n",
    "\"what'll've\": \"what will have\",\n",
    "\"what're\": \"what are\",\n",
    "\"what's\": \"what is\",\n",
    "\"what've\": \"what have\",\n",
    "\"when's\": \"when is\",\n",
    "\"when've\": \"when have\",\n",
    "\"where'd\": \"where did\",\n",
    "\"where's\": \"where is\",\n",
    "\"where've\": \"where have\",\n",
    "\"who'll\": \"who will\",\n",
    "\"who'll've\": \"who will have\",\n",
    "\"who's\": \"who is\",\n",
    "\"who've\": \"who have\",\n",
    "\"why's\": \"why is\",\n",
    "\"why've\": \"why have\",\n",
    "\"will've\": \"will have\",\n",
    "\"won't\": \"will not\",\n",
    "\"won't've\": \"will not have\",\n",
    "\"would've\": \"would have\",\n",
    "\"wouldn't\": \"would not\",\n",
    "\"wouldn't've\": \"would not have\",\n",
    "\"y'all\": \"you all\",\n",
    "\"y'all'd\": \"you all would\",\n",
    "\"y'all'd've\": \"you all would have\",\n",
    "\"y'all're\": \"you all are\",\n",
    "\"y'all've\": \"you all have\",\n",
    "\"you'd\": \"you would\",\n",
    "\"you'd've\": \"you would have\",\n",
    "\"you'll\": \"you will\",\n",
    "\"you'll've\": \"you will have\",\n",
    "\"you're\": \"you are\",\n",
    "\"you've\": \"you have\"\n",
    "}\n",
    "def expand_contractions(text, contraction_mapping=CONTRACTION_MAP):\n",
    "    \n",
    "    contractions_pattern = re.compile('({})'.format('|'.join(contraction_mapping.keys())), \n",
    "                                      flags=re.IGNORECASE|re.DOTALL)\n",
    "    def expand_match(contraction):\n",
    "        match = contraction.group(0)\n",
    "        first_char = match[0]\n",
    "        expanded_contraction = contraction_mapping.get(match)\\\n",
    "                                if contraction_mapping.get(match)\\\n",
    "                                else contraction_mapping.get(match.lower())                       \n",
    "        expanded_contraction = first_char+expanded_contraction[1:]\n",
    "        return expanded_contraction\n",
    "        \n",
    "    expanded_text = contractions_pattern.sub(expand_match, text)\n",
    "    expanded_text = re.sub(\"'\", \"\", expanded_text)\n",
    "    return expanded_text"
   ]
  },
  {
   "cell_type": "code",
   "execution_count": 17,
   "id": "7c42766e",
   "metadata": {},
   "outputs": [
    {
     "data": {
      "application/vnd.jupyter.widget-view+json": {
       "model_id": "5222d15c04f343b288eff825856458e6",
       "version_major": 2,
       "version_minor": 0
      },
      "text/plain": [
       "  0%|          | 0/295021 [00:00<?, ?it/s]"
      ]
     },
     "metadata": {},
     "output_type": "display_data"
    }
   ],
   "source": [
    "corpus['text']=corpus['text'].progress_apply(lambda x:expand_contractions(x))"
   ]
  },
  {
   "cell_type": "code",
   "execution_count": 19,
   "id": "1b51220d",
   "metadata": {},
   "outputs": [],
   "source": [
    "def remove_url_func(text):\n",
    "    return re.sub(r'https?://\\S+|www\\.\\S+', '', text)"
   ]
  },
  {
   "cell_type": "code",
   "execution_count": 22,
   "id": "67b4b5ec",
   "metadata": {},
   "outputs": [],
   "source": [
    "def remove_accented_chars_func(text):\n",
    "    return unicodedata.normalize('NFKD', text).encode('ascii', 'ignore').decode('utf-8', 'ignore')"
   ]
  },
  {
   "cell_type": "code",
   "execution_count": 25,
   "id": "d62dd90d",
   "metadata": {},
   "outputs": [],
   "source": [
    "def remove_punctuation_func(text):\n",
    "    return re.sub(r'[^a-zA-Z0-9]', ' ', text)"
   ]
  },
  {
   "cell_type": "code",
   "execution_count": 26,
   "id": "0774eeaa",
   "metadata": {},
   "outputs": [],
   "source": [
    "def remove_irr_char_func(text):\n",
    "    return re.sub(r'[^a-zA-Z]', ' ', text)"
   ]
  },
  {
   "cell_type": "code",
   "execution_count": 27,
   "id": "5ef35a2f",
   "metadata": {},
   "outputs": [],
   "source": [
    "def remove_extra_whitespaces_func(text):\n",
    "    return re.sub(r'^\\s*|\\s\\s*', ' ', text).strip()"
   ]
  },
  {
   "cell_type": "code",
   "execution_count": 18,
   "id": "d32fc72e",
   "metadata": {},
   "outputs": [
    {
     "data": {
      "application/vnd.jupyter.widget-view+json": {
       "model_id": "4d44df48eb3f4c24a0ef36a0d74dcc17",
       "version_major": 2,
       "version_minor": 0
      },
      "text/plain": [
       "  0%|          | 0/295021 [00:00<?, ?it/s]"
      ]
     },
     "metadata": {},
     "output_type": "display_data"
    }
   ],
   "source": [
    "corpus['text']=corpus['text'].progress_apply(lambda x: x.lower())"
   ]
  },
  {
   "cell_type": "code",
   "execution_count": 20,
   "id": "2caccd57",
   "metadata": {},
   "outputs": [
    {
     "data": {
      "application/vnd.jupyter.widget-view+json": {
       "model_id": "2ed57baf7624455988615267796201db",
       "version_major": 2,
       "version_minor": 0
      },
      "text/plain": [
       "  0%|          | 0/295021 [00:00<?, ?it/s]"
      ]
     },
     "metadata": {},
     "output_type": "display_data"
    }
   ],
   "source": [
    "corpus['text']=corpus['text'].progress_apply(lambda x:remove_url_func(x))"
   ]
  },
  {
   "cell_type": "code",
   "execution_count": 23,
   "id": "d2bff85d",
   "metadata": {},
   "outputs": [
    {
     "data": {
      "application/vnd.jupyter.widget-view+json": {
       "model_id": "3fbfec7ca48743378978e1c1aaf067e8",
       "version_major": 2,
       "version_minor": 0
      },
      "text/plain": [
       "  0%|          | 0/295021 [00:00<?, ?it/s]"
      ]
     },
     "metadata": {},
     "output_type": "display_data"
    }
   ],
   "source": [
    "corpus['text']=corpus['text'].progress_apply(lambda x:remove_accented_chars_func(x))"
   ]
  },
  {
   "cell_type": "code",
   "execution_count": 64,
   "id": "2ef87aef",
   "metadata": {
    "scrolled": true
   },
   "outputs": [
    {
     "data": {
      "application/vnd.jupyter.widget-view+json": {
       "model_id": "15168e6d65424e53a5246f6e6436b41a",
       "version_major": 2,
       "version_minor": 0
      },
      "text/plain": [
       "  0%|          | 0/236425 [00:00<?, ?it/s]"
      ]
     },
     "metadata": {},
     "output_type": "display_data"
    }
   ],
   "source": [
    "corpus['text']=corpus['text'].progress_apply(lambda x:remove_punctuation_func(x))"
   ]
  },
  {
   "cell_type": "code",
   "execution_count": 65,
   "id": "89ef9f78",
   "metadata": {},
   "outputs": [
    {
     "data": {
      "application/vnd.jupyter.widget-view+json": {
       "model_id": "b6a3d1f385b646c7a9c3e6c96c43310c",
       "version_major": 2,
       "version_minor": 0
      },
      "text/plain": [
       "  0%|          | 0/236425 [00:00<?, ?it/s]"
      ]
     },
     "metadata": {},
     "output_type": "display_data"
    }
   ],
   "source": [
    "corpus['text']=corpus['text'].progress_apply(lambda x:remove_irr_char_func(x))"
   ]
  },
  {
   "cell_type": "code",
   "execution_count": 28,
   "id": "77c4436c",
   "metadata": {},
   "outputs": [
    {
     "data": {
      "application/vnd.jupyter.widget-view+json": {
       "model_id": "2190b1f6cb1e426784466adc4b76e823",
       "version_major": 2,
       "version_minor": 0
      },
      "text/plain": [
       "  0%|          | 0/295021 [00:00<?, ?it/s]"
      ]
     },
     "metadata": {},
     "output_type": "display_data"
    }
   ],
   "source": [
    "corpus['text']=corpus['text'].progress_apply(lambda x:remove_extra_whitespaces_func(x))"
   ]
  },
  {
   "cell_type": "code",
   "execution_count": 67,
   "id": "eff34b87",
   "metadata": {},
   "outputs": [],
   "source": [
    "nlp = spacy.load('en_core_web_lg',disable=['parser', 'ner'])"
   ]
  },
  {
   "cell_type": "code",
   "execution_count": 68,
   "id": "07e9afca",
   "metadata": {},
   "outputs": [
    {
     "data": {
      "application/vnd.jupyter.widget-view+json": {
       "model_id": "399c0c1094d44cc59966b0d893a521b7",
       "version_major": 2,
       "version_minor": 0
      },
      "text/plain": [
       "  0%|          | 0/236425 [00:00<?, ?it/s]"
      ]
     },
     "metadata": {},
     "output_type": "display_data"
    }
   ],
   "source": [
    "corpus['lemmatized']=corpus['text'].progress_apply(lambda x: ' '.join([token.lemma_ for token in list(nlp(x)) if (token.is_stop==False)]))"
   ]
  },
  {
   "cell_type": "code",
   "execution_count": 69,
   "id": "b41bb629",
   "metadata": {},
   "outputs": [],
   "source": [
    "corpus.to_csv(\"cleaned_test_data_lemmatized.csv\")"
   ]
  },
  {
   "cell_type": "code",
   "execution_count": 32,
   "id": "e48b47a7",
   "metadata": {},
   "outputs": [
    {
     "data": {
      "text/plain": [
       "id                 0\n",
       "title         198718\n",
       "date               0\n",
       "text               0\n",
       "depressive         0\n",
       "dtype: int64"
      ]
     },
     "execution_count": 32,
     "metadata": {},
     "output_type": "execute_result"
    }
   ],
   "source": [
    "corpus.isnull().sum()"
   ]
  },
  {
   "cell_type": "code",
   "execution_count": 30,
   "id": "d251a425",
   "metadata": {},
   "outputs": [],
   "source": [
    "corpus.to_csv(\"training_data.csv\", index = False)"
   ]
  },
  {
   "cell_type": "code",
   "execution_count": 34,
   "id": "840e661d",
   "metadata": {},
   "outputs": [],
   "source": [
    "corpus = pd.read_csv(\"training_data.csv\")"
   ]
  },
  {
   "cell_type": "code",
   "execution_count": 35,
   "id": "e9d06fa8",
   "metadata": {},
   "outputs": [
    {
     "data": {
      "text/plain": [
       "id                 0\n",
       "title         198718\n",
       "date               0\n",
       "text           85735\n",
       "depressive         0\n",
       "dtype: int64"
      ]
     },
     "execution_count": 35,
     "metadata": {},
     "output_type": "execute_result"
    }
   ],
   "source": [
    "corpus.isnull().sum()"
   ]
  },
  {
   "cell_type": "code",
   "execution_count": null,
   "id": "8a100927",
   "metadata": {},
   "outputs": [],
   "source": []
  }
 ],
 "metadata": {
  "kernelspec": {
   "display_name": "Python 3 (ipykernel)",
   "language": "python",
   "name": "python3"
  },
  "language_info": {
   "codemirror_mode": {
    "name": "ipython",
    "version": 3
   },
   "file_extension": ".py",
   "mimetype": "text/x-python",
   "name": "python",
   "nbconvert_exporter": "python",
   "pygments_lexer": "ipython3",
   "version": "3.10.6"
  }
 },
 "nbformat": 4,
 "nbformat_minor": 5
}
